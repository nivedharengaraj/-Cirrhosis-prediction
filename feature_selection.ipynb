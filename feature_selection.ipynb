{
  "cells": [
    {
      "cell_type": "code",
      "execution_count": null,
      "metadata": {
        "colab": {
          "base_uri": "https://localhost:8080/"
        },
        "id": "kXO8dyJCVnW2",
        "outputId": "691f4ed3-3835-42ab-950c-c53b59856f50"
      },
      "outputs": [
        {
          "name": "stdout",
          "output_type": "stream",
          "text": [
            "Requirement already satisfied: xgboost in /usr/local/lib/python3.10/dist-packages (2.1.1)\n",
            "Requirement already satisfied: scikit-learn in /usr/local/lib/python3.10/dist-packages (1.5.2)\n",
            "Collecting deap\n",
            "  Downloading deap-1.4.1-cp310-cp310-manylinux_2_5_x86_64.manylinux1_x86_64.manylinux_2_17_x86_64.manylinux2014_x86_64.whl.metadata (13 kB)\n",
            "Requirement already satisfied: numpy in /usr/local/lib/python3.10/dist-packages (from xgboost) (1.26.4)\n",
            "Requirement already satisfied: nvidia-nccl-cu12 in /usr/local/lib/python3.10/dist-packages (from xgboost) (2.23.4)\n",
            "Requirement already satisfied: scipy in /usr/local/lib/python3.10/dist-packages (from xgboost) (1.13.1)\n",
            "Requirement already satisfied: joblib>=1.2.0 in /usr/local/lib/python3.10/dist-packages (from scikit-learn) (1.4.2)\n",
            "Requirement already satisfied: threadpoolctl>=3.1.0 in /usr/local/lib/python3.10/dist-packages (from scikit-learn) (3.5.0)\n",
            "Downloading deap-1.4.1-cp310-cp310-manylinux_2_5_x86_64.manylinux1_x86_64.manylinux_2_17_x86_64.manylinux2014_x86_64.whl (135 kB)\n",
            "\u001b[2K   \u001b[90m━━━━━━━━━━━━━━━━━━━━━━━━━━━━━━━━━━━━━━━━\u001b[0m \u001b[32m135.4/135.4 kB\u001b[0m \u001b[31m5.2 MB/s\u001b[0m eta \u001b[36m0:00:00\u001b[0m\n",
            "\u001b[?25hInstalling collected packages: deap\n",
            "Successfully installed deap-1.4.1\n"
          ]
        }
      ],
      "source": [
        "pip install xgboost scikit-learn deap"
      ]
    },
    {
      "cell_type": "code",
      "execution_count": null,
      "metadata": {
        "colab": {
          "base_uri": "https://localhost:8080/"
        },
        "id": "BUQRg9xiVq8V",
        "outputId": "c40d72be-933f-4fb1-eb0a-e1bdc999430d"
      },
      "outputs": [
        {
          "name": "stdout",
          "output_type": "stream",
          "text": [
            "Collecting catboost\n",
            "  Downloading catboost-1.2.7-cp310-cp310-manylinux2014_x86_64.whl.metadata (1.2 kB)\n",
            "Requirement already satisfied: graphviz in /usr/local/lib/python3.10/dist-packages (from catboost) (0.20.3)\n",
            "Requirement already satisfied: matplotlib in /usr/local/lib/python3.10/dist-packages (from catboost) (3.7.1)\n",
            "Requirement already satisfied: numpy<2.0,>=1.16.0 in /usr/local/lib/python3.10/dist-packages (from catboost) (1.26.4)\n",
            "Requirement already satisfied: pandas>=0.24 in /usr/local/lib/python3.10/dist-packages (from catboost) (2.2.2)\n",
            "Requirement already satisfied: scipy in /usr/local/lib/python3.10/dist-packages (from catboost) (1.13.1)\n",
            "Requirement already satisfied: plotly in /usr/local/lib/python3.10/dist-packages (from catboost) (5.24.1)\n",
            "Requirement already satisfied: six in /usr/local/lib/python3.10/dist-packages (from catboost) (1.16.0)\n",
            "Requirement already satisfied: python-dateutil>=2.8.2 in /usr/local/lib/python3.10/dist-packages (from pandas>=0.24->catboost) (2.8.2)\n",
            "Requirement already satisfied: pytz>=2020.1 in /usr/local/lib/python3.10/dist-packages (from pandas>=0.24->catboost) (2024.2)\n",
            "Requirement already satisfied: tzdata>=2022.7 in /usr/local/lib/python3.10/dist-packages (from pandas>=0.24->catboost) (2024.2)\n",
            "Requirement already satisfied: contourpy>=1.0.1 in /usr/local/lib/python3.10/dist-packages (from matplotlib->catboost) (1.3.0)\n",
            "Requirement already satisfied: cycler>=0.10 in /usr/local/lib/python3.10/dist-packages (from matplotlib->catboost) (0.12.1)\n",
            "Requirement already satisfied: fonttools>=4.22.0 in /usr/local/lib/python3.10/dist-packages (from matplotlib->catboost) (4.54.1)\n",
            "Requirement already satisfied: kiwisolver>=1.0.1 in /usr/local/lib/python3.10/dist-packages (from matplotlib->catboost) (1.4.7)\n",
            "Requirement already satisfied: packaging>=20.0 in /usr/local/lib/python3.10/dist-packages (from matplotlib->catboost) (24.1)\n",
            "Requirement already satisfied: pillow>=6.2.0 in /usr/local/lib/python3.10/dist-packages (from matplotlib->catboost) (10.4.0)\n",
            "Requirement already satisfied: pyparsing>=2.3.1 in /usr/local/lib/python3.10/dist-packages (from matplotlib->catboost) (3.2.0)\n",
            "Requirement already satisfied: tenacity>=6.2.0 in /usr/local/lib/python3.10/dist-packages (from plotly->catboost) (9.0.0)\n",
            "Downloading catboost-1.2.7-cp310-cp310-manylinux2014_x86_64.whl (98.7 MB)\n",
            "\u001b[2K   \u001b[90m━━━━━━━━━━━━━━━━━━━━━━━━━━━━━━━━━━━━━━━━\u001b[0m \u001b[32m98.7/98.7 MB\u001b[0m \u001b[31m9.3 MB/s\u001b[0m eta \u001b[36m0:00:00\u001b[0m\n",
            "\u001b[?25hInstalling collected packages: catboost\n",
            "Successfully installed catboost-1.2.7\n"
          ]
        }
      ],
      "source": [
        "!pip install catboost"
      ]
    },
    {
      "cell_type": "code",
      "execution_count": null,
      "metadata": {
        "colab": {
          "base_uri": "https://localhost:8080/"
        },
        "id": "Ke1hMk-dVrbc",
        "outputId": "90d4c7c1-fbfd-424f-e32a-5a776127f0e4"
      },
      "outputs": [
        {
          "name": "stdout",
          "output_type": "stream",
          "text": [
            "Collecting optuna\n",
            "  Downloading optuna-4.0.0-py3-none-any.whl.metadata (16 kB)\n",
            "Collecting alembic>=1.5.0 (from optuna)\n",
            "  Downloading alembic-1.13.3-py3-none-any.whl.metadata (7.4 kB)\n",
            "Collecting colorlog (from optuna)\n",
            "  Downloading colorlog-6.8.2-py3-none-any.whl.metadata (10 kB)\n",
            "Requirement already satisfied: numpy in /usr/local/lib/python3.10/dist-packages (from optuna) (1.26.4)\n",
            "Requirement already satisfied: packaging>=20.0 in /usr/local/lib/python3.10/dist-packages (from optuna) (24.1)\n",
            "Requirement already satisfied: sqlalchemy>=1.3.0 in /usr/local/lib/python3.10/dist-packages (from optuna) (2.0.35)\n",
            "Requirement already satisfied: tqdm in /usr/local/lib/python3.10/dist-packages (from optuna) (4.66.5)\n",
            "Requirement already satisfied: PyYAML in /usr/local/lib/python3.10/dist-packages (from optuna) (6.0.2)\n",
            "Collecting Mako (from alembic>=1.5.0->optuna)\n",
            "  Downloading Mako-1.3.5-py3-none-any.whl.metadata (2.9 kB)\n",
            "Requirement already satisfied: typing-extensions>=4 in /usr/local/lib/python3.10/dist-packages (from alembic>=1.5.0->optuna) (4.12.2)\n",
            "Requirement already satisfied: greenlet!=0.4.17 in /usr/local/lib/python3.10/dist-packages (from sqlalchemy>=1.3.0->optuna) (3.1.1)\n",
            "Requirement already satisfied: MarkupSafe>=0.9.2 in /usr/local/lib/python3.10/dist-packages (from Mako->alembic>=1.5.0->optuna) (3.0.1)\n",
            "Downloading optuna-4.0.0-py3-none-any.whl (362 kB)\n",
            "\u001b[2K   \u001b[90m━━━━━━━━━━━━━━━━━━━━━━━━━━━━━━━━━━━━━━━━\u001b[0m \u001b[32m362.8/362.8 kB\u001b[0m \u001b[31m6.0 MB/s\u001b[0m eta \u001b[36m0:00:00\u001b[0m\n",
            "\u001b[?25hDownloading alembic-1.13.3-py3-none-any.whl (233 kB)\n",
            "\u001b[2K   \u001b[90m━━━━━━━━━━━━━━━━━━━━━━━━━━━━━━━━━━━━━━━━\u001b[0m \u001b[32m233.2/233.2 kB\u001b[0m \u001b[31m10.1 MB/s\u001b[0m eta \u001b[36m0:00:00\u001b[0m\n",
            "\u001b[?25hDownloading colorlog-6.8.2-py3-none-any.whl (11 kB)\n",
            "Downloading Mako-1.3.5-py3-none-any.whl (78 kB)\n",
            "\u001b[2K   \u001b[90m━━━━━━━━━━━━━━━━━━━━━━━━━━━━━━━━━━━━━━━━\u001b[0m \u001b[32m78.6/78.6 kB\u001b[0m \u001b[31m3.9 MB/s\u001b[0m eta \u001b[36m0:00:00\u001b[0m\n",
            "\u001b[?25hInstalling collected packages: Mako, colorlog, alembic, optuna\n",
            "Successfully installed Mako-1.3.5 alembic-1.13.3 colorlog-6.8.2 optuna-4.0.0\n"
          ]
        }
      ],
      "source": [
        "!pip install optuna"
      ]
    },
    {
      "cell_type": "code",
      "execution_count": null,
      "metadata": {
        "colab": {
          "base_uri": "https://localhost:8080/"
        },
        "id": "wVpnAREoW_AM",
        "outputId": "c290dfb9-97cd-437f-daf6-0f10f2e189f6"
      },
      "outputs": [
        {
          "name": "stdout",
          "output_type": "stream",
          "text": [
            "Requirement already satisfied: imbalanced-learn in /usr/local/lib/python3.10/dist-packages (0.12.4)\n",
            "Requirement already satisfied: numpy>=1.17.3 in /usr/local/lib/python3.10/dist-packages (from imbalanced-learn) (1.26.4)\n",
            "Requirement already satisfied: scipy>=1.5.0 in /usr/local/lib/python3.10/dist-packages (from imbalanced-learn) (1.13.1)\n",
            "Requirement already satisfied: scikit-learn>=1.0.2 in /usr/local/lib/python3.10/dist-packages (from imbalanced-learn) (1.5.2)\n",
            "Requirement already satisfied: joblib>=1.1.1 in /usr/local/lib/python3.10/dist-packages (from imbalanced-learn) (1.4.2)\n",
            "Requirement already satisfied: threadpoolctl>=2.0.0 in /usr/local/lib/python3.10/dist-packages (from imbalanced-learn) (3.5.0)\n"
          ]
        }
      ],
      "source": [
        "pip install imbalanced-learn"
      ]
    },
    {
      "cell_type": "code",
      "execution_count": null,
      "metadata": {
        "colab": {
          "background_save": true
        },
        "id": "ycrstQilVeLD"
      },
      "outputs": [],
      "source": [
        "import pandas as pd; pd.set_option('display.max_columns', 100)\n",
        "import numpy as np\n",
        "import warnings\n",
        "warnings.filterwarnings('ignore')\n",
        "from tqdm.notebook import tqdm\n",
        "import re\n",
        "from functools import partial\n",
        "from scipy.stats import mode\n",
        "import matplotlib.pyplot as plt; plt.style.use('ggplot')\n",
        "import seaborn as sns\n",
        "import plotly.express as px\n",
        "from sklearn.tree import DecisionTreeClassifier, plot_tree\n",
        "from sklearn.preprocessing import MinMaxScaler, StandardScaler, LabelEncoder, FunctionTransformer, PowerTransformer, PolynomialFeatures\n",
        "from sklearn.pipeline import make_pipeline, Pipeline\n",
        "from sklearn.decomposition import PCA\n",
        "from sklearn.cluster import KMeans\n",
        "from sklearn.compose import ColumnTransformer, make_column_transformer\n",
        "from sklearn.impute import KNNImputer\n",
        "from sklearn.multiclass import OneVsRestClassifier\n",
        "from sklearn.neighbors import KNeighborsClassifier\n",
        "import time\n",
        "from sklearn.model_selection import KFold, StratifiedKFold, train_test_split, GridSearchCV, RepeatedStratifiedKFold, cross_val_score, cross_val_predict\n",
        "from sklearn.metrics import roc_auc_score, roc_curve, RocCurveDisplay, cohen_kappa_score, log_loss, f1_score\n",
        "from sklearn.discriminant_analysis import LinearDiscriminantAnalysis, QuadraticDiscriminantAnalysis\n",
        "from sklearn.neighbors import KNeighborsClassifier\n",
        "from sklearn.feature_selection import RFE, RFECV\n",
        "from sklearn.isotonic import IsotonicRegression\n",
        "from sklearn.calibration import CalibrationDisplay, CalibratedClassifierCV\n",
        "from sklearn.inspection import PartialDependenceDisplay, permutation_importance\n",
        "from sklearn.linear_model import LogisticRegression, RidgeClassifier\n",
        "from collections import Counter\n",
        "from sklearn.ensemble import AdaBoostClassifier, RandomForestClassifier, HistGradientBoostingClassifier, GradientBoostingClassifier, ExtraTreesClassifier, VotingClassifier, StackingClassifier\n",
        "from lightgbm import LGBMClassifier\n",
        "from xgboost import XGBClassifier\n",
        "from catboost import CatBoostClassifier\n",
        "import optuna\n",
        "from sklearn.metrics import accuracy_score, precision_score\n",
        "from sklearn.metrics import roc_auc_score, precision_recall_curve, auc\n",
        "from sklearn.preprocessing import label_binarize\n",
        "from sklearn.metrics import RocCurveDisplay, PrecisionRecallDisplay\n",
        "from deap import base, creator, tools, algorithms\n",
        "import random\n",
        "import xgboost as xgb\n",
        "from imblearn.over_sampling import SMOTE\n",
        "from collections import Counter"
      ]
    },
    {
      "cell_type": "code",
      "execution_count": null,
      "metadata": {
        "colab": {
          "base_uri": "https://localhost:8080/",
          "height": 73
        },
        "id": "-YwYop_YVifj",
        "outputId": "fa568e8f-72d6-4cd0-f212-3df7e40f148c"
      },
      "outputs": [
        {
          "data": {
            "text/html": [
              "\n",
              "     <input type=\"file\" id=\"files-fe22e751-395d-4290-bdfd-593c4292783f\" name=\"files[]\" multiple disabled\n",
              "        style=\"border:none\" />\n",
              "     <output id=\"result-fe22e751-395d-4290-bdfd-593c4292783f\">\n",
              "      Upload widget is only available when the cell has been executed in the\n",
              "      current browser session. Please rerun this cell to enable.\n",
              "      </output>\n",
              "      <script>// Copyright 2017 Google LLC\n",
              "//\n",
              "// Licensed under the Apache License, Version 2.0 (the \"License\");\n",
              "// you may not use this file except in compliance with the License.\n",
              "// You may obtain a copy of the License at\n",
              "//\n",
              "//      http://www.apache.org/licenses/LICENSE-2.0\n",
              "//\n",
              "// Unless required by applicable law or agreed to in writing, software\n",
              "// distributed under the License is distributed on an \"AS IS\" BASIS,\n",
              "// WITHOUT WARRANTIES OR CONDITIONS OF ANY KIND, either express or implied.\n",
              "// See the License for the specific language governing permissions and\n",
              "// limitations under the License.\n",
              "\n",
              "/**\n",
              " * @fileoverview Helpers for google.colab Python module.\n",
              " */\n",
              "(function(scope) {\n",
              "function span(text, styleAttributes = {}) {\n",
              "  const element = document.createElement('span');\n",
              "  element.textContent = text;\n",
              "  for (const key of Object.keys(styleAttributes)) {\n",
              "    element.style[key] = styleAttributes[key];\n",
              "  }\n",
              "  return element;\n",
              "}\n",
              "\n",
              "// Max number of bytes which will be uploaded at a time.\n",
              "const MAX_PAYLOAD_SIZE = 100 * 1024;\n",
              "\n",
              "function _uploadFiles(inputId, outputId) {\n",
              "  const steps = uploadFilesStep(inputId, outputId);\n",
              "  const outputElement = document.getElementById(outputId);\n",
              "  // Cache steps on the outputElement to make it available for the next call\n",
              "  // to uploadFilesContinue from Python.\n",
              "  outputElement.steps = steps;\n",
              "\n",
              "  return _uploadFilesContinue(outputId);\n",
              "}\n",
              "\n",
              "// This is roughly an async generator (not supported in the browser yet),\n",
              "// where there are multiple asynchronous steps and the Python side is going\n",
              "// to poll for completion of each step.\n",
              "// This uses a Promise to block the python side on completion of each step,\n",
              "// then passes the result of the previous step as the input to the next step.\n",
              "function _uploadFilesContinue(outputId) {\n",
              "  const outputElement = document.getElementById(outputId);\n",
              "  const steps = outputElement.steps;\n",
              "\n",
              "  const next = steps.next(outputElement.lastPromiseValue);\n",
              "  return Promise.resolve(next.value.promise).then((value) => {\n",
              "    // Cache the last promise value to make it available to the next\n",
              "    // step of the generator.\n",
              "    outputElement.lastPromiseValue = value;\n",
              "    return next.value.response;\n",
              "  });\n",
              "}\n",
              "\n",
              "/**\n",
              " * Generator function which is called between each async step of the upload\n",
              " * process.\n",
              " * @param {string} inputId Element ID of the input file picker element.\n",
              " * @param {string} outputId Element ID of the output display.\n",
              " * @return {!Iterable<!Object>} Iterable of next steps.\n",
              " */\n",
              "function* uploadFilesStep(inputId, outputId) {\n",
              "  const inputElement = document.getElementById(inputId);\n",
              "  inputElement.disabled = false;\n",
              "\n",
              "  const outputElement = document.getElementById(outputId);\n",
              "  outputElement.innerHTML = '';\n",
              "\n",
              "  const pickedPromise = new Promise((resolve) => {\n",
              "    inputElement.addEventListener('change', (e) => {\n",
              "      resolve(e.target.files);\n",
              "    });\n",
              "  });\n",
              "\n",
              "  const cancel = document.createElement('button');\n",
              "  inputElement.parentElement.appendChild(cancel);\n",
              "  cancel.textContent = 'Cancel upload';\n",
              "  const cancelPromise = new Promise((resolve) => {\n",
              "    cancel.onclick = () => {\n",
              "      resolve(null);\n",
              "    };\n",
              "  });\n",
              "\n",
              "  // Wait for the user to pick the files.\n",
              "  const files = yield {\n",
              "    promise: Promise.race([pickedPromise, cancelPromise]),\n",
              "    response: {\n",
              "      action: 'starting',\n",
              "    }\n",
              "  };\n",
              "\n",
              "  cancel.remove();\n",
              "\n",
              "  // Disable the input element since further picks are not allowed.\n",
              "  inputElement.disabled = true;\n",
              "\n",
              "  if (!files) {\n",
              "    return {\n",
              "      response: {\n",
              "        action: 'complete',\n",
              "      }\n",
              "    };\n",
              "  }\n",
              "\n",
              "  for (const file of files) {\n",
              "    const li = document.createElement('li');\n",
              "    li.append(span(file.name, {fontWeight: 'bold'}));\n",
              "    li.append(span(\n",
              "        `(${file.type || 'n/a'}) - ${file.size} bytes, ` +\n",
              "        `last modified: ${\n",
              "            file.lastModifiedDate ? file.lastModifiedDate.toLocaleDateString() :\n",
              "                                    'n/a'} - `));\n",
              "    const percent = span('0% done');\n",
              "    li.appendChild(percent);\n",
              "\n",
              "    outputElement.appendChild(li);\n",
              "\n",
              "    const fileDataPromise = new Promise((resolve) => {\n",
              "      const reader = new FileReader();\n",
              "      reader.onload = (e) => {\n",
              "        resolve(e.target.result);\n",
              "      };\n",
              "      reader.readAsArrayBuffer(file);\n",
              "    });\n",
              "    // Wait for the data to be ready.\n",
              "    let fileData = yield {\n",
              "      promise: fileDataPromise,\n",
              "      response: {\n",
              "        action: 'continue',\n",
              "      }\n",
              "    };\n",
              "\n",
              "    // Use a chunked sending to avoid message size limits. See b/62115660.\n",
              "    let position = 0;\n",
              "    do {\n",
              "      const length = Math.min(fileData.byteLength - position, MAX_PAYLOAD_SIZE);\n",
              "      const chunk = new Uint8Array(fileData, position, length);\n",
              "      position += length;\n",
              "\n",
              "      const base64 = btoa(String.fromCharCode.apply(null, chunk));\n",
              "      yield {\n",
              "        response: {\n",
              "          action: 'append',\n",
              "          file: file.name,\n",
              "          data: base64,\n",
              "        },\n",
              "      };\n",
              "\n",
              "      let percentDone = fileData.byteLength === 0 ?\n",
              "          100 :\n",
              "          Math.round((position / fileData.byteLength) * 100);\n",
              "      percent.textContent = `${percentDone}% done`;\n",
              "\n",
              "    } while (position < fileData.byteLength);\n",
              "  }\n",
              "\n",
              "  // All done.\n",
              "  yield {\n",
              "    response: {\n",
              "      action: 'complete',\n",
              "    }\n",
              "  };\n",
              "}\n",
              "\n",
              "scope.google = scope.google || {};\n",
              "scope.google.colab = scope.google.colab || {};\n",
              "scope.google.colab._files = {\n",
              "  _uploadFiles,\n",
              "  _uploadFilesContinue,\n",
              "};\n",
              "})(self);\n",
              "</script> "
            ],
            "text/plain": [
              "<IPython.core.display.HTML object>"
            ]
          },
          "metadata": {},
          "output_type": "display_data"
        },
        {
          "name": "stdout",
          "output_type": "stream",
          "text": [
            "Saving train-Cirrhosis Outcomes.csv to train-Cirrhosis Outcomes.csv\n"
          ]
        }
      ],
      "source": [
        "from google.colab import files\n",
        "uploaded2 = files.upload()"
      ]
    },
    {
      "cell_type": "code",
      "execution_count": null,
      "metadata": {
        "colab": {
          "base_uri": "https://localhost:8080/",
          "height": 73
        },
        "id": "LxMhT-6FViio",
        "outputId": "9768b1e8-6361-4e3d-e575-26f30cbbce03"
      },
      "outputs": [
        {
          "data": {
            "text/html": [
              "\n",
              "     <input type=\"file\" id=\"files-16342ed0-2083-421f-9173-129ff360e8bb\" name=\"files[]\" multiple disabled\n",
              "        style=\"border:none\" />\n",
              "     <output id=\"result-16342ed0-2083-421f-9173-129ff360e8bb\">\n",
              "      Upload widget is only available when the cell has been executed in the\n",
              "      current browser session. Please rerun this cell to enable.\n",
              "      </output>\n",
              "      <script>// Copyright 2017 Google LLC\n",
              "//\n",
              "// Licensed under the Apache License, Version 2.0 (the \"License\");\n",
              "// you may not use this file except in compliance with the License.\n",
              "// You may obtain a copy of the License at\n",
              "//\n",
              "//      http://www.apache.org/licenses/LICENSE-2.0\n",
              "//\n",
              "// Unless required by applicable law or agreed to in writing, software\n",
              "// distributed under the License is distributed on an \"AS IS\" BASIS,\n",
              "// WITHOUT WARRANTIES OR CONDITIONS OF ANY KIND, either express or implied.\n",
              "// See the License for the specific language governing permissions and\n",
              "// limitations under the License.\n",
              "\n",
              "/**\n",
              " * @fileoverview Helpers for google.colab Python module.\n",
              " */\n",
              "(function(scope) {\n",
              "function span(text, styleAttributes = {}) {\n",
              "  const element = document.createElement('span');\n",
              "  element.textContent = text;\n",
              "  for (const key of Object.keys(styleAttributes)) {\n",
              "    element.style[key] = styleAttributes[key];\n",
              "  }\n",
              "  return element;\n",
              "}\n",
              "\n",
              "// Max number of bytes which will be uploaded at a time.\n",
              "const MAX_PAYLOAD_SIZE = 100 * 1024;\n",
              "\n",
              "function _uploadFiles(inputId, outputId) {\n",
              "  const steps = uploadFilesStep(inputId, outputId);\n",
              "  const outputElement = document.getElementById(outputId);\n",
              "  // Cache steps on the outputElement to make it available for the next call\n",
              "  // to uploadFilesContinue from Python.\n",
              "  outputElement.steps = steps;\n",
              "\n",
              "  return _uploadFilesContinue(outputId);\n",
              "}\n",
              "\n",
              "// This is roughly an async generator (not supported in the browser yet),\n",
              "// where there are multiple asynchronous steps and the Python side is going\n",
              "// to poll for completion of each step.\n",
              "// This uses a Promise to block the python side on completion of each step,\n",
              "// then passes the result of the previous step as the input to the next step.\n",
              "function _uploadFilesContinue(outputId) {\n",
              "  const outputElement = document.getElementById(outputId);\n",
              "  const steps = outputElement.steps;\n",
              "\n",
              "  const next = steps.next(outputElement.lastPromiseValue);\n",
              "  return Promise.resolve(next.value.promise).then((value) => {\n",
              "    // Cache the last promise value to make it available to the next\n",
              "    // step of the generator.\n",
              "    outputElement.lastPromiseValue = value;\n",
              "    return next.value.response;\n",
              "  });\n",
              "}\n",
              "\n",
              "/**\n",
              " * Generator function which is called between each async step of the upload\n",
              " * process.\n",
              " * @param {string} inputId Element ID of the input file picker element.\n",
              " * @param {string} outputId Element ID of the output display.\n",
              " * @return {!Iterable<!Object>} Iterable of next steps.\n",
              " */\n",
              "function* uploadFilesStep(inputId, outputId) {\n",
              "  const inputElement = document.getElementById(inputId);\n",
              "  inputElement.disabled = false;\n",
              "\n",
              "  const outputElement = document.getElementById(outputId);\n",
              "  outputElement.innerHTML = '';\n",
              "\n",
              "  const pickedPromise = new Promise((resolve) => {\n",
              "    inputElement.addEventListener('change', (e) => {\n",
              "      resolve(e.target.files);\n",
              "    });\n",
              "  });\n",
              "\n",
              "  const cancel = document.createElement('button');\n",
              "  inputElement.parentElement.appendChild(cancel);\n",
              "  cancel.textContent = 'Cancel upload';\n",
              "  const cancelPromise = new Promise((resolve) => {\n",
              "    cancel.onclick = () => {\n",
              "      resolve(null);\n",
              "    };\n",
              "  });\n",
              "\n",
              "  // Wait for the user to pick the files.\n",
              "  const files = yield {\n",
              "    promise: Promise.race([pickedPromise, cancelPromise]),\n",
              "    response: {\n",
              "      action: 'starting',\n",
              "    }\n",
              "  };\n",
              "\n",
              "  cancel.remove();\n",
              "\n",
              "  // Disable the input element since further picks are not allowed.\n",
              "  inputElement.disabled = true;\n",
              "\n",
              "  if (!files) {\n",
              "    return {\n",
              "      response: {\n",
              "        action: 'complete',\n",
              "      }\n",
              "    };\n",
              "  }\n",
              "\n",
              "  for (const file of files) {\n",
              "    const li = document.createElement('li');\n",
              "    li.append(span(file.name, {fontWeight: 'bold'}));\n",
              "    li.append(span(\n",
              "        `(${file.type || 'n/a'}) - ${file.size} bytes, ` +\n",
              "        `last modified: ${\n",
              "            file.lastModifiedDate ? file.lastModifiedDate.toLocaleDateString() :\n",
              "                                    'n/a'} - `));\n",
              "    const percent = span('0% done');\n",
              "    li.appendChild(percent);\n",
              "\n",
              "    outputElement.appendChild(li);\n",
              "\n",
              "    const fileDataPromise = new Promise((resolve) => {\n",
              "      const reader = new FileReader();\n",
              "      reader.onload = (e) => {\n",
              "        resolve(e.target.result);\n",
              "      };\n",
              "      reader.readAsArrayBuffer(file);\n",
              "    });\n",
              "    // Wait for the data to be ready.\n",
              "    let fileData = yield {\n",
              "      promise: fileDataPromise,\n",
              "      response: {\n",
              "        action: 'continue',\n",
              "      }\n",
              "    };\n",
              "\n",
              "    // Use a chunked sending to avoid message size limits. See b/62115660.\n",
              "    let position = 0;\n",
              "    do {\n",
              "      const length = Math.min(fileData.byteLength - position, MAX_PAYLOAD_SIZE);\n",
              "      const chunk = new Uint8Array(fileData, position, length);\n",
              "      position += length;\n",
              "\n",
              "      const base64 = btoa(String.fromCharCode.apply(null, chunk));\n",
              "      yield {\n",
              "        response: {\n",
              "          action: 'append',\n",
              "          file: file.name,\n",
              "          data: base64,\n",
              "        },\n",
              "      };\n",
              "\n",
              "      let percentDone = fileData.byteLength === 0 ?\n",
              "          100 :\n",
              "          Math.round((position / fileData.byteLength) * 100);\n",
              "      percent.textContent = `${percentDone}% done`;\n",
              "\n",
              "    } while (position < fileData.byteLength);\n",
              "  }\n",
              "\n",
              "  // All done.\n",
              "  yield {\n",
              "    response: {\n",
              "      action: 'complete',\n",
              "    }\n",
              "  };\n",
              "}\n",
              "\n",
              "scope.google = scope.google || {};\n",
              "scope.google.colab = scope.google.colab || {};\n",
              "scope.google.colab._files = {\n",
              "  _uploadFiles,\n",
              "  _uploadFilesContinue,\n",
              "};\n",
              "})(self);\n",
              "</script> "
            ],
            "text/plain": [
              "<IPython.core.display.HTML object>"
            ]
          },
          "metadata": {},
          "output_type": "display_data"
        },
        {
          "name": "stdout",
          "output_type": "stream",
          "text": [
            "Saving test- Cirrhosis Outcomes.csv to test- Cirrhosis Outcomes.csv\n"
          ]
        }
      ],
      "source": [
        "from google.colab import files\n",
        "uploaded2 = files.upload()"
      ]
    },
    {
      "cell_type": "code",
      "execution_count": null,
      "metadata": {
        "id": "1H28FvgHVioR"
      },
      "outputs": [],
      "source": [
        "train = pd.read_csv('train-Cirrhosis Outcomes.csv')\n",
        "test = pd.read_csv('test- Cirrhosis Outcomes.csv')"
      ]
    },
    {
      "cell_type": "code",
      "execution_count": null,
      "metadata": {
        "colab": {
          "base_uri": "https://localhost:8080/"
        },
        "id": "LzDCNDTxZyet",
        "outputId": "516b34b5-bfc0-4b96-b495-bcd035d56ab7"
      },
      "outputs": [
        {
          "name": "stdout",
          "output_type": "stream",
          "text": [
            "Number of duplicate rows: 0\n",
            "Number of duplicate rows: 0\n"
          ]
        }
      ],
      "source": [
        "# Check for duplicates\n",
        "duplicate_rows = train[train.duplicated()]\n",
        "print(f\"Number of duplicate rows: {len(duplicate_rows)}\")\n",
        "\n",
        "duplicate_rows1 = test[test.duplicated()]\n",
        "print(f\"Number of duplicate rows: {len(duplicate_rows1)}\")"
      ]
    },
    {
      "cell_type": "code",
      "execution_count": null,
      "metadata": {
        "id": "20jxo3heViqq"
      },
      "outputs": [],
      "source": [
        "X = train.drop(columns=['Status'])\n",
        "y = train['Status']"
      ]
    },
    {
      "cell_type": "code",
      "execution_count": null,
      "metadata": {
        "colab": {
          "base_uri": "https://localhost:8080/",
          "height": 149
        },
        "id": "Ca69JEI5Vitp",
        "outputId": "7ff8905d-dd29-4e90-a573-d9efadb79573"
      },
      "outputs": [
        {
          "data": {
            "application/vnd.google.colaboratory.intrinsic+json": {
              "summary": "{\n  \"name\": \"X\",\n  \"rows\": 7905,\n  \"fields\": [\n    {\n      \"column\": \"id\",\n      \"properties\": {\n        \"dtype\": \"number\",\n        \"std\": 2282,\n        \"min\": 0,\n        \"max\": 7904,\n        \"num_unique_values\": 7905,\n        \"samples\": [\n          3467,\n          465,\n          453\n        ],\n        \"semantic_type\": \"\",\n        \"description\": \"\"\n      }\n    },\n    {\n      \"column\": \"N_Days\",\n      \"properties\": {\n        \"dtype\": \"number\",\n        \"std\": 1094,\n        \"min\": 41,\n        \"max\": 4795,\n        \"num_unique_values\": 461,\n        \"samples\": [\n          130,\n          1882,\n          3170\n        ],\n        \"semantic_type\": \"\",\n        \"description\": \"\"\n      }\n    },\n    {\n      \"column\": \"Drug\",\n      \"properties\": {\n        \"dtype\": \"category\",\n        \"num_unique_values\": 2,\n        \"samples\": [\n          \"Placebo\",\n          \"D-penicillamine\"\n        ],\n        \"semantic_type\": \"\",\n        \"description\": \"\"\n      }\n    },\n    {\n      \"column\": \"Age\",\n      \"properties\": {\n        \"dtype\": \"number\",\n        \"std\": 3679,\n        \"min\": 9598,\n        \"max\": 28650,\n        \"num_unique_values\": 391,\n        \"samples\": [\n          15009,\n          14019\n        ],\n        \"semantic_type\": \"\",\n        \"description\": \"\"\n      }\n    },\n    {\n      \"column\": \"Sex\",\n      \"properties\": {\n        \"dtype\": \"category\",\n        \"num_unique_values\": 2,\n        \"samples\": [\n          \"F\",\n          \"M\"\n        ],\n        \"semantic_type\": \"\",\n        \"description\": \"\"\n      }\n    },\n    {\n      \"column\": \"Ascites\",\n      \"properties\": {\n        \"dtype\": \"category\",\n        \"num_unique_values\": 2,\n        \"samples\": [\n          \"Y\",\n          \"N\"\n        ],\n        \"semantic_type\": \"\",\n        \"description\": \"\"\n      }\n    },\n    {\n      \"column\": \"Hepatomegaly\",\n      \"properties\": {\n        \"dtype\": \"category\",\n        \"num_unique_values\": 2,\n        \"samples\": [\n          \"Y\",\n          \"N\"\n        ],\n        \"semantic_type\": \"\",\n        \"description\": \"\"\n      }\n    },\n    {\n      \"column\": \"Spiders\",\n      \"properties\": {\n        \"dtype\": \"category\",\n        \"num_unique_values\": 2,\n        \"samples\": [\n          \"Y\",\n          \"N\"\n        ],\n        \"semantic_type\": \"\",\n        \"description\": \"\"\n      }\n    },\n    {\n      \"column\": \"Bilirubin\",\n      \"properties\": {\n        \"dtype\": \"number\",\n        \"std\": 3.8129603247079946,\n        \"min\": 0.3,\n        \"max\": 28.0,\n        \"num_unique_values\": 111,\n        \"samples\": [\n          7.3,\n          1.3\n        ],\n        \"semantic_type\": \"\",\n        \"description\": \"\"\n      }\n    },\n    {\n      \"column\": \"Cholesterol\",\n      \"properties\": {\n        \"dtype\": \"number\",\n        \"std\": 195.37934396689417,\n        \"min\": 120.0,\n        \"max\": 1775.0,\n        \"num_unique_values\": 226,\n        \"samples\": [\n          478.0,\n          340.0\n        ],\n        \"semantic_type\": \"\",\n        \"description\": \"\"\n      }\n    },\n    {\n      \"column\": \"Albumin\",\n      \"properties\": {\n        \"dtype\": \"number\",\n        \"std\": 0.34617081107847947,\n        \"min\": 1.96,\n        \"max\": 4.64,\n        \"num_unique_values\": 160,\n        \"samples\": [\n          2.53,\n          3.45\n        ],\n        \"semantic_type\": \"\",\n        \"description\": \"\"\n      }\n    },\n    {\n      \"column\": \"Copper\",\n      \"properties\": {\n        \"dtype\": \"number\",\n        \"std\": 75.89926584569668,\n        \"min\": 4.0,\n        \"max\": 588.0,\n        \"num_unique_values\": 171,\n        \"samples\": [\n          101.0,\n          123.0\n        ],\n        \"semantic_type\": \"\",\n        \"description\": \"\"\n      }\n    },\n    {\n      \"column\": \"Alk_Phos\",\n      \"properties\": {\n        \"dtype\": \"number\",\n        \"std\": 1903.7506573159149,\n        \"min\": 289.0,\n        \"max\": 13862.4,\n        \"num_unique_values\": 364,\n        \"samples\": [\n          1536.0,\n          938.0\n        ],\n        \"semantic_type\": \"\",\n        \"description\": \"\"\n      }\n    },\n    {\n      \"column\": \"SGOT\",\n      \"properties\": {\n        \"dtype\": \"number\",\n        \"std\": 48.7909448918337,\n        \"min\": 26.35,\n        \"max\": 457.25,\n        \"num_unique_values\": 206,\n        \"samples\": [\n          184.45,\n          171.0\n        ],\n        \"semantic_type\": \"\",\n        \"description\": \"\"\n      }\n    },\n    {\n      \"column\": \"Tryglicerides\",\n      \"properties\": {\n        \"dtype\": \"number\",\n        \"std\": 52.53040171631099,\n        \"min\": 33.0,\n        \"max\": 598.0,\n        \"num_unique_values\": 154,\n        \"samples\": [\n          133.0,\n          175.0\n        ],\n        \"semantic_type\": \"\",\n        \"description\": \"\"\n      }\n    },\n    {\n      \"column\": \"Platelets\",\n      \"properties\": {\n        \"dtype\": \"number\",\n        \"std\": 87.4655785144104,\n        \"min\": 62.0,\n        \"max\": 563.0,\n        \"num_unique_values\": 227,\n        \"samples\": [\n          336.0,\n          327.0\n        ],\n        \"semantic_type\": \"\",\n        \"description\": \"\"\n      }\n    },\n    {\n      \"column\": \"Prothrombin\",\n      \"properties\": {\n        \"dtype\": \"number\",\n        \"std\": 0.7817348264911133,\n        \"min\": 9.0,\n        \"max\": 18.0,\n        \"num_unique_values\": 49,\n        \"samples\": [\n          12.1,\n          13.4\n        ],\n        \"semantic_type\": \"\",\n        \"description\": \"\"\n      }\n    },\n    {\n      \"column\": \"Stage\",\n      \"properties\": {\n        \"dtype\": \"number\",\n        \"std\": 0.86651062887286,\n        \"min\": 1.0,\n        \"max\": 4.0,\n        \"num_unique_values\": 4,\n        \"samples\": [\n          4.0,\n          1.0\n        ],\n        \"semantic_type\": \"\",\n        \"description\": \"\"\n      }\n    },\n    {\n      \"column\": \"S\",\n      \"properties\": {\n        \"dtype\": \"number\",\n        \"std\": 0,\n        \"min\": 0,\n        \"max\": 1,\n        \"num_unique_values\": 2,\n        \"samples\": [\n          1,\n          0\n        ],\n        \"semantic_type\": \"\",\n        \"description\": \"\"\n      }\n    },\n    {\n      \"column\": \"Y\",\n      \"properties\": {\n        \"dtype\": \"number\",\n        \"std\": 0,\n        \"min\": 0,\n        \"max\": 1,\n        \"num_unique_values\": 2,\n        \"samples\": [\n          1,\n          0\n        ],\n        \"semantic_type\": \"\",\n        \"description\": \"\"\n      }\n    }\n  ]\n}",
              "type": "dataframe",
              "variable_name": "X"
            },
            "text/html": [
              "\n",
              "  <div id=\"df-b969863d-f450-4a1d-8a7e-a745e55a95f7\" class=\"colab-df-container\">\n",
              "    <div>\n",
              "<style scoped>\n",
              "    .dataframe tbody tr th:only-of-type {\n",
              "        vertical-align: middle;\n",
              "    }\n",
              "\n",
              "    .dataframe tbody tr th {\n",
              "        vertical-align: top;\n",
              "    }\n",
              "\n",
              "    .dataframe thead th {\n",
              "        text-align: right;\n",
              "    }\n",
              "</style>\n",
              "<table border=\"1\" class=\"dataframe\">\n",
              "  <thead>\n",
              "    <tr style=\"text-align: right;\">\n",
              "      <th></th>\n",
              "      <th>id</th>\n",
              "      <th>N_Days</th>\n",
              "      <th>Drug</th>\n",
              "      <th>Age</th>\n",
              "      <th>Sex</th>\n",
              "      <th>Ascites</th>\n",
              "      <th>Hepatomegaly</th>\n",
              "      <th>Spiders</th>\n",
              "      <th>Bilirubin</th>\n",
              "      <th>Cholesterol</th>\n",
              "      <th>Albumin</th>\n",
              "      <th>Copper</th>\n",
              "      <th>Alk_Phos</th>\n",
              "      <th>SGOT</th>\n",
              "      <th>Tryglicerides</th>\n",
              "      <th>Platelets</th>\n",
              "      <th>Prothrombin</th>\n",
              "      <th>Stage</th>\n",
              "      <th>S</th>\n",
              "      <th>Y</th>\n",
              "    </tr>\n",
              "  </thead>\n",
              "  <tbody>\n",
              "    <tr>\n",
              "      <th>0</th>\n",
              "      <td>0</td>\n",
              "      <td>999</td>\n",
              "      <td>D-penicillamine</td>\n",
              "      <td>21532</td>\n",
              "      <td>M</td>\n",
              "      <td>N</td>\n",
              "      <td>N</td>\n",
              "      <td>N</td>\n",
              "      <td>2.3</td>\n",
              "      <td>316.0</td>\n",
              "      <td>3.35</td>\n",
              "      <td>172.0</td>\n",
              "      <td>1601.0</td>\n",
              "      <td>179.80</td>\n",
              "      <td>63.0</td>\n",
              "      <td>394.0</td>\n",
              "      <td>9.7</td>\n",
              "      <td>3.0</td>\n",
              "      <td>0</td>\n",
              "      <td>0</td>\n",
              "    </tr>\n",
              "    <tr>\n",
              "      <th>1</th>\n",
              "      <td>1</td>\n",
              "      <td>2574</td>\n",
              "      <td>Placebo</td>\n",
              "      <td>19237</td>\n",
              "      <td>F</td>\n",
              "      <td>N</td>\n",
              "      <td>N</td>\n",
              "      <td>N</td>\n",
              "      <td>0.9</td>\n",
              "      <td>364.0</td>\n",
              "      <td>3.54</td>\n",
              "      <td>63.0</td>\n",
              "      <td>1440.0</td>\n",
              "      <td>134.85</td>\n",
              "      <td>88.0</td>\n",
              "      <td>361.0</td>\n",
              "      <td>11.0</td>\n",
              "      <td>3.0</td>\n",
              "      <td>0</td>\n",
              "      <td>0</td>\n",
              "    </tr>\n",
              "  </tbody>\n",
              "</table>\n",
              "</div>\n",
              "    <div class=\"colab-df-buttons\">\n",
              "\n",
              "  <div class=\"colab-df-container\">\n",
              "    <button class=\"colab-df-convert\" onclick=\"convertToInteractive('df-b969863d-f450-4a1d-8a7e-a745e55a95f7')\"\n",
              "            title=\"Convert this dataframe to an interactive table.\"\n",
              "            style=\"display:none;\">\n",
              "\n",
              "  <svg xmlns=\"http://www.w3.org/2000/svg\" height=\"24px\" viewBox=\"0 -960 960 960\">\n",
              "    <path d=\"M120-120v-720h720v720H120Zm60-500h600v-160H180v160Zm220 220h160v-160H400v160Zm0 220h160v-160H400v160ZM180-400h160v-160H180v160Zm440 0h160v-160H620v160ZM180-180h160v-160H180v160Zm440 0h160v-160H620v160Z\"/>\n",
              "  </svg>\n",
              "    </button>\n",
              "\n",
              "  <style>\n",
              "    .colab-df-container {\n",
              "      display:flex;\n",
              "      gap: 12px;\n",
              "    }\n",
              "\n",
              "    .colab-df-convert {\n",
              "      background-color: #E8F0FE;\n",
              "      border: none;\n",
              "      border-radius: 50%;\n",
              "      cursor: pointer;\n",
              "      display: none;\n",
              "      fill: #1967D2;\n",
              "      height: 32px;\n",
              "      padding: 0 0 0 0;\n",
              "      width: 32px;\n",
              "    }\n",
              "\n",
              "    .colab-df-convert:hover {\n",
              "      background-color: #E2EBFA;\n",
              "      box-shadow: 0px 1px 2px rgba(60, 64, 67, 0.3), 0px 1px 3px 1px rgba(60, 64, 67, 0.15);\n",
              "      fill: #174EA6;\n",
              "    }\n",
              "\n",
              "    .colab-df-buttons div {\n",
              "      margin-bottom: 4px;\n",
              "    }\n",
              "\n",
              "    [theme=dark] .colab-df-convert {\n",
              "      background-color: #3B4455;\n",
              "      fill: #D2E3FC;\n",
              "    }\n",
              "\n",
              "    [theme=dark] .colab-df-convert:hover {\n",
              "      background-color: #434B5C;\n",
              "      box-shadow: 0px 1px 3px 1px rgba(0, 0, 0, 0.15);\n",
              "      filter: drop-shadow(0px 1px 2px rgba(0, 0, 0, 0.3));\n",
              "      fill: #FFFFFF;\n",
              "    }\n",
              "  </style>\n",
              "\n",
              "    <script>\n",
              "      const buttonEl =\n",
              "        document.querySelector('#df-b969863d-f450-4a1d-8a7e-a745e55a95f7 button.colab-df-convert');\n",
              "      buttonEl.style.display =\n",
              "        google.colab.kernel.accessAllowed ? 'block' : 'none';\n",
              "\n",
              "      async function convertToInteractive(key) {\n",
              "        const element = document.querySelector('#df-b969863d-f450-4a1d-8a7e-a745e55a95f7');\n",
              "        const dataTable =\n",
              "          await google.colab.kernel.invokeFunction('convertToInteractive',\n",
              "                                                    [key], {});\n",
              "        if (!dataTable) return;\n",
              "\n",
              "        const docLinkHtml = 'Like what you see? Visit the ' +\n",
              "          '<a target=\"_blank\" href=https://colab.research.google.com/notebooks/data_table.ipynb>data table notebook</a>'\n",
              "          + ' to learn more about interactive tables.';\n",
              "        element.innerHTML = '';\n",
              "        dataTable['output_type'] = 'display_data';\n",
              "        await google.colab.output.renderOutput(dataTable, element);\n",
              "        const docLink = document.createElement('div');\n",
              "        docLink.innerHTML = docLinkHtml;\n",
              "        element.appendChild(docLink);\n",
              "      }\n",
              "    </script>\n",
              "  </div>\n",
              "\n",
              "\n",
              "<div id=\"df-447e16cf-a506-49c7-a23e-3187be62df88\">\n",
              "  <button class=\"colab-df-quickchart\" onclick=\"quickchart('df-447e16cf-a506-49c7-a23e-3187be62df88')\"\n",
              "            title=\"Suggest charts\"\n",
              "            style=\"display:none;\">\n",
              "\n",
              "<svg xmlns=\"http://www.w3.org/2000/svg\" height=\"24px\"viewBox=\"0 0 24 24\"\n",
              "     width=\"24px\">\n",
              "    <g>\n",
              "        <path d=\"M19 3H5c-1.1 0-2 .9-2 2v14c0 1.1.9 2 2 2h14c1.1 0 2-.9 2-2V5c0-1.1-.9-2-2-2zM9 17H7v-7h2v7zm4 0h-2V7h2v10zm4 0h-2v-4h2v4z\"/>\n",
              "    </g>\n",
              "</svg>\n",
              "  </button>\n",
              "\n",
              "<style>\n",
              "  .colab-df-quickchart {\n",
              "      --bg-color: #E8F0FE;\n",
              "      --fill-color: #1967D2;\n",
              "      --hover-bg-color: #E2EBFA;\n",
              "      --hover-fill-color: #174EA6;\n",
              "      --disabled-fill-color: #AAA;\n",
              "      --disabled-bg-color: #DDD;\n",
              "  }\n",
              "\n",
              "  [theme=dark] .colab-df-quickchart {\n",
              "      --bg-color: #3B4455;\n",
              "      --fill-color: #D2E3FC;\n",
              "      --hover-bg-color: #434B5C;\n",
              "      --hover-fill-color: #FFFFFF;\n",
              "      --disabled-bg-color: #3B4455;\n",
              "      --disabled-fill-color: #666;\n",
              "  }\n",
              "\n",
              "  .colab-df-quickchart {\n",
              "    background-color: var(--bg-color);\n",
              "    border: none;\n",
              "    border-radius: 50%;\n",
              "    cursor: pointer;\n",
              "    display: none;\n",
              "    fill: var(--fill-color);\n",
              "    height: 32px;\n",
              "    padding: 0;\n",
              "    width: 32px;\n",
              "  }\n",
              "\n",
              "  .colab-df-quickchart:hover {\n",
              "    background-color: var(--hover-bg-color);\n",
              "    box-shadow: 0 1px 2px rgba(60, 64, 67, 0.3), 0 1px 3px 1px rgba(60, 64, 67, 0.15);\n",
              "    fill: var(--button-hover-fill-color);\n",
              "  }\n",
              "\n",
              "  .colab-df-quickchart-complete:disabled,\n",
              "  .colab-df-quickchart-complete:disabled:hover {\n",
              "    background-color: var(--disabled-bg-color);\n",
              "    fill: var(--disabled-fill-color);\n",
              "    box-shadow: none;\n",
              "  }\n",
              "\n",
              "  .colab-df-spinner {\n",
              "    border: 2px solid var(--fill-color);\n",
              "    border-color: transparent;\n",
              "    border-bottom-color: var(--fill-color);\n",
              "    animation:\n",
              "      spin 1s steps(1) infinite;\n",
              "  }\n",
              "\n",
              "  @keyframes spin {\n",
              "    0% {\n",
              "      border-color: transparent;\n",
              "      border-bottom-color: var(--fill-color);\n",
              "      border-left-color: var(--fill-color);\n",
              "    }\n",
              "    20% {\n",
              "      border-color: transparent;\n",
              "      border-left-color: var(--fill-color);\n",
              "      border-top-color: var(--fill-color);\n",
              "    }\n",
              "    30% {\n",
              "      border-color: transparent;\n",
              "      border-left-color: var(--fill-color);\n",
              "      border-top-color: var(--fill-color);\n",
              "      border-right-color: var(--fill-color);\n",
              "    }\n",
              "    40% {\n",
              "      border-color: transparent;\n",
              "      border-right-color: var(--fill-color);\n",
              "      border-top-color: var(--fill-color);\n",
              "    }\n",
              "    60% {\n",
              "      border-color: transparent;\n",
              "      border-right-color: var(--fill-color);\n",
              "    }\n",
              "    80% {\n",
              "      border-color: transparent;\n",
              "      border-right-color: var(--fill-color);\n",
              "      border-bottom-color: var(--fill-color);\n",
              "    }\n",
              "    90% {\n",
              "      border-color: transparent;\n",
              "      border-bottom-color: var(--fill-color);\n",
              "    }\n",
              "  }\n",
              "</style>\n",
              "\n",
              "  <script>\n",
              "    async function quickchart(key) {\n",
              "      const quickchartButtonEl =\n",
              "        document.querySelector('#' + key + ' button');\n",
              "      quickchartButtonEl.disabled = true;  // To prevent multiple clicks.\n",
              "      quickchartButtonEl.classList.add('colab-df-spinner');\n",
              "      try {\n",
              "        const charts = await google.colab.kernel.invokeFunction(\n",
              "            'suggestCharts', [key], {});\n",
              "      } catch (error) {\n",
              "        console.error('Error during call to suggestCharts:', error);\n",
              "      }\n",
              "      quickchartButtonEl.classList.remove('colab-df-spinner');\n",
              "      quickchartButtonEl.classList.add('colab-df-quickchart-complete');\n",
              "    }\n",
              "    (() => {\n",
              "      let quickchartButtonEl =\n",
              "        document.querySelector('#df-447e16cf-a506-49c7-a23e-3187be62df88 button');\n",
              "      quickchartButtonEl.style.display =\n",
              "        google.colab.kernel.accessAllowed ? 'block' : 'none';\n",
              "    })();\n",
              "  </script>\n",
              "</div>\n",
              "\n",
              "    </div>\n",
              "  </div>\n"
            ],
            "text/plain": [
              "   id  N_Days             Drug    Age Sex Ascites Hepatomegaly Spiders  \\\n",
              "0   0     999  D-penicillamine  21532   M       N            N       N   \n",
              "1   1    2574          Placebo  19237   F       N            N       N   \n",
              "\n",
              "   Bilirubin  Cholesterol  Albumin  Copper  Alk_Phos    SGOT  Tryglicerides  \\\n",
              "0        2.3        316.0     3.35   172.0    1601.0  179.80           63.0   \n",
              "1        0.9        364.0     3.54    63.0    1440.0  134.85           88.0   \n",
              "\n",
              "   Platelets  Prothrombin  Stage  S  Y  \n",
              "0      394.0          9.7    3.0  0  0  \n",
              "1      361.0         11.0    3.0  0  0  "
            ]
          },
          "execution_count": 23,
          "metadata": {},
          "output_type": "execute_result"
        }
      ],
      "source": [
        "X.head(2)"
      ]
    },
    {
      "cell_type": "code",
      "execution_count": null,
      "metadata": {
        "colab": {
          "base_uri": "https://localhost:8080/",
          "height": 146
        },
        "id": "4yG9VokdViwL",
        "outputId": "4081776e-6520-42c3-9905-fa40e54a1fa5"
      },
      "outputs": [
        {
          "data": {
            "text/html": [
              "<div>\n",
              "<style scoped>\n",
              "    .dataframe tbody tr th:only-of-type {\n",
              "        vertical-align: middle;\n",
              "    }\n",
              "\n",
              "    .dataframe tbody tr th {\n",
              "        vertical-align: top;\n",
              "    }\n",
              "\n",
              "    .dataframe thead th {\n",
              "        text-align: right;\n",
              "    }\n",
              "</style>\n",
              "<table border=\"1\" class=\"dataframe\">\n",
              "  <thead>\n",
              "    <tr style=\"text-align: right;\">\n",
              "      <th></th>\n",
              "      <th>Status</th>\n",
              "    </tr>\n",
              "  </thead>\n",
              "  <tbody>\n",
              "    <tr>\n",
              "      <th>0</th>\n",
              "      <td>D</td>\n",
              "    </tr>\n",
              "    <tr>\n",
              "      <th>1</th>\n",
              "      <td>C</td>\n",
              "    </tr>\n",
              "  </tbody>\n",
              "</table>\n",
              "</div><br><label><b>dtype:</b> object</label>"
            ],
            "text/plain": [
              "0    D\n",
              "1    C\n",
              "Name: Status, dtype: object"
            ]
          },
          "execution_count": 15,
          "metadata": {},
          "output_type": "execute_result"
        }
      ],
      "source": [
        "y.head(2)"
      ]
    },
    {
      "cell_type": "code",
      "execution_count": null,
      "metadata": {
        "id": "0wGVnKgRbTJo"
      },
      "outputs": [],
      "source": [
        "#X['Edema'] = X['Edema'].map({'N': 0, 'Y': 1, 'S': 1})\n",
        "y = y.map({'C': 0, 'CL': 1, 'D': 2})\n",
        "X = train.drop(columns = ['Edema', 'Status'], axis = 1)\n",
        "X = pd.concat([X, pd.get_dummies(train['Edema'], drop_first = True, dtype = int)], axis = 1)\n",
        "X['Drug'] = X['Drug'].map({'D-penicillamine': 0, 'Placebo': 1})\n",
        "X['Sex'] = X['Sex'].map({'F': 0, 'M': 1})\n",
        "X['Ascites'] = X['Ascites'].map({'N': 0, 'Y': 1})\n",
        "X['Hepatomegaly'] = X['Hepatomegaly'].map({'N': 0, 'Y': 1})\n",
        "X['Spiders'] = X['Spiders'].map({'N': 0, 'Y': 1})"
      ]
    },
    {
      "cell_type": "code",
      "execution_count": null,
      "metadata": {
        "id": "kVZ6ljvaZ9ZS"
      },
      "outputs": [],
      "source": [
        "X_train, X_test, y_train, y_test = train_test_split(X, y, test_size=0.2, random_state=42)"
      ]
    },
    {
      "cell_type": "code",
      "execution_count": null,
      "metadata": {
        "id": "mEiOCU31Vi2I"
      },
      "outputs": [],
      "source": [
        "def evaluate_individual(individual):\n",
        "\n",
        "    selected_features = [i for i, bit in enumerate(individual) if bit == 1]\n",
        "\n",
        "    if len(selected_features) == 0:\n",
        "        return 0,\n",
        "\n",
        "    X_train_selected = X_train.iloc[:, selected_features]\n",
        "    X_test_selected = X_test.iloc[:, selected_features]\n",
        "    model = xgb.XGBClassifier(use_label_encoder=False, eval_metric='logloss')\n",
        "    model.fit(X_train_selected, y_train)\n",
        "    y_pred = model.predict(X_test_selected)\n",
        "    accuracy = accuracy_score(y_test, y_pred)\n",
        "    return accuracy,\n"
      ]
    },
    {
      "cell_type": "code",
      "execution_count": null,
      "metadata": {
        "id": "eZhAk6hsbbDH"
      },
      "outputs": [],
      "source": [
        "# Genetic Algorithm parameters\n",
        "toolbox = base.Toolbox()\n",
        "creator.create(\"FitnessMax\", base.Fitness, weights=(1.0,))\n",
        "creator.create(\"Individual\", list, fitness=creator.FitnessMax)\n",
        "toolbox.register(\"attr_bool\", random.randint, 0, 1)\n",
        "toolbox.register(\"individual\", tools.initRepeat, creator.Individual, toolbox.attr_bool, len(X_train.columns))\n",
        "toolbox.register(\"population\", tools.initRepeat, list, toolbox.individual)\n",
        "toolbox.register(\"evaluate\", evaluate_individual)\n",
        "toolbox.register(\"mate\", tools.cxTwoPoint)\n",
        "toolbox.register(\"mutate\", tools.mutFlipBit, indpb=0.05)\n",
        "toolbox.register(\"select\", tools.selTournament, tournsize=3)\n",
        "\n",
        "\n",
        "population_size = 50\n",
        "num_generations = 20\n",
        "crossover_prob = 0.7\n",
        "mutation_prob = 0.2\n",
        "\n",
        "population = toolbox.population(n=population_size)\n",
        "\n",
        "\n",
        "for gen in range(num_generations):\n",
        "\n",
        "    offspring = toolbox.select(population, len(population))\n",
        "    offspring = list(map(toolbox.clone, offspring))\n",
        "\n",
        "    for child1, child2 in zip(offspring[::2], offspring[1::2]):\n",
        "        if random.random() < crossover_prob:\n",
        "            toolbox.mate(child1, child2)\n",
        "            del child1.fitness.values\n",
        "            del child2.fitness.values\n",
        "\n",
        "    for mutant in offspring:\n",
        "        if random.random() < mutation_prob:\n",
        "            toolbox.mutate(mutant)\n",
        "            del mutant.fitness.values\n",
        "\n",
        "    invalid_individuals = [ind for ind in offspring if not ind.fitness.valid]\n",
        "    fitnesses = map(toolbox.evaluate, invalid_individuals)\n",
        "    for ind, fit in zip(invalid_individuals, fitnesses):\n",
        "        ind.fitness.values = fit\n",
        "    population[:] = offspring\n",
        "\n",
        "    fits = [ind.fitness.values[0] for ind in population]\n",
        "    print(f\"Generation {gen}: Best Accuracy = {max(fits):.4f}\")\n"
      ]
    },
    {
      "cell_type": "code",
      "execution_count": null,
      "metadata": {
        "colab": {
          "base_uri": "https://localhost:8080/"
        },
        "id": "-tnVwPEXVjBa",
        "outputId": "ebbae7b3-b14c-4837-b0db-1bbadfad2a27"
      },
      "outputs": [
        {
          "name": "stdout",
          "output_type": "stream",
          "text": [
            "Selected features: [1, 3, 7, 8, 9, 10, 11, 12, 14, 15, 16, 17, 18]\n",
            "Final model accuracy on selected features: 0.8387\n"
          ]
        }
      ],
      "source": [
        "best_individual = tools.selBest(population, k=1)[0]\n",
        "selected_features = [i for i, bit in enumerate(best_individual) if bit == 1]\n",
        "print(\"Selected features:\", selected_features)\n",
        "X_train_selected = X_train.iloc[:, selected_features]\n",
        "X_test_selected = X_test.iloc[:, selected_features]\n",
        "\n",
        "final_model = xgb.XGBClassifier(use_label_encoder=False, eval_metric='logloss')\n",
        "final_model.fit(X_train_selected, y_train)\n",
        "final_predictions = final_model.predict(X_test_selected)\n",
        "\n",
        "final_accuracy = accuracy_score(y_test, final_predictions)\n",
        "print(f\"Final model accuracy on selected features: {final_accuracy:.4f}\")\n"
      ]
    },
    {
      "cell_type": "code",
      "execution_count": null,
      "metadata": {
        "colab": {
          "base_uri": "https://localhost:8080/"
        },
        "id": "fZsOHIHMVjD7",
        "outputId": "32658886-a10b-4843-92ad-e735f0f4c742"
      },
      "outputs": [
        {
          "name": "stdout",
          "output_type": "stream",
          "text": [
            "Selected feature names: ['N_Days', 'Age', 'Spiders', 'Edema', 'Bilirubin', 'Cholesterol', 'Albumin', 'Copper', 'SGOT', 'Tryglicerides', 'Platelets', 'Prothrombin', 'Stage']\n"
          ]
        }
      ],
      "source": [
        "feature_names = X_train.columns[selected_features]\n",
        "print(\"Selected feature names:\", feature_names.tolist())"
      ]
    },
    {
      "cell_type": "code",
      "execution_count": null,
      "metadata": {
        "colab": {
          "base_uri": "https://localhost:8080/",
          "height": 132
        },
        "id": "Z1yRM_vgaI_A",
        "outputId": "711b8030-4277-4362-a465-408c6fbc5e01"
      },
      "outputs": [
        {
          "data": {
            "application/vnd.google.colaboratory.intrinsic+json": {
              "summary": "{\n  \"name\": \"X\",\n  \"rows\": 7905,\n  \"fields\": [\n    {\n      \"column\": \"N_Days\",\n      \"properties\": {\n        \"dtype\": \"number\",\n        \"std\": 1094,\n        \"min\": 41,\n        \"max\": 4795,\n        \"num_unique_values\": 461,\n        \"samples\": [\n          130,\n          1882,\n          3170\n        ],\n        \"semantic_type\": \"\",\n        \"description\": \"\"\n      }\n    },\n    {\n      \"column\": \"Drug\",\n      \"properties\": {\n        \"dtype\": \"number\",\n        \"std\": 0,\n        \"min\": 0,\n        \"max\": 1,\n        \"num_unique_values\": 2,\n        \"samples\": [\n          1,\n          0\n        ],\n        \"semantic_type\": \"\",\n        \"description\": \"\"\n      }\n    },\n    {\n      \"column\": \"Age\",\n      \"properties\": {\n        \"dtype\": \"number\",\n        \"std\": 3679,\n        \"min\": 9598,\n        \"max\": 28650,\n        \"num_unique_values\": 391,\n        \"samples\": [\n          15009,\n          14019\n        ],\n        \"semantic_type\": \"\",\n        \"description\": \"\"\n      }\n    },\n    {\n      \"column\": \"Hepatomegaly\",\n      \"properties\": {\n        \"dtype\": \"number\",\n        \"std\": 0,\n        \"min\": 0,\n        \"max\": 1,\n        \"num_unique_values\": 2,\n        \"samples\": [\n          1,\n          0\n        ],\n        \"semantic_type\": \"\",\n        \"description\": \"\"\n      }\n    },\n    {\n      \"column\": \"Spiders\",\n      \"properties\": {\n        \"dtype\": \"number\",\n        \"std\": 0,\n        \"min\": 0,\n        \"max\": 1,\n        \"num_unique_values\": 2,\n        \"samples\": [\n          1,\n          0\n        ],\n        \"semantic_type\": \"\",\n        \"description\": \"\"\n      }\n    },\n    {\n      \"column\": \"Bilirubin\",\n      \"properties\": {\n        \"dtype\": \"number\",\n        \"std\": 3.8129603247079946,\n        \"min\": 0.3,\n        \"max\": 28.0,\n        \"num_unique_values\": 111,\n        \"samples\": [\n          7.3,\n          1.3\n        ],\n        \"semantic_type\": \"\",\n        \"description\": \"\"\n      }\n    },\n    {\n      \"column\": \"Cholesterol\",\n      \"properties\": {\n        \"dtype\": \"number\",\n        \"std\": 195.37934396689417,\n        \"min\": 120.0,\n        \"max\": 1775.0,\n        \"num_unique_values\": 226,\n        \"samples\": [\n          478.0,\n          340.0\n        ],\n        \"semantic_type\": \"\",\n        \"description\": \"\"\n      }\n    },\n    {\n      \"column\": \"Albumin\",\n      \"properties\": {\n        \"dtype\": \"number\",\n        \"std\": 0.34617081107847947,\n        \"min\": 1.96,\n        \"max\": 4.64,\n        \"num_unique_values\": 160,\n        \"samples\": [\n          2.53,\n          3.45\n        ],\n        \"semantic_type\": \"\",\n        \"description\": \"\"\n      }\n    },\n    {\n      \"column\": \"Copper\",\n      \"properties\": {\n        \"dtype\": \"number\",\n        \"std\": 75.89926584569668,\n        \"min\": 4.0,\n        \"max\": 588.0,\n        \"num_unique_values\": 171,\n        \"samples\": [\n          101.0,\n          123.0\n        ],\n        \"semantic_type\": \"\",\n        \"description\": \"\"\n      }\n    },\n    {\n      \"column\": \"SGOT\",\n      \"properties\": {\n        \"dtype\": \"number\",\n        \"std\": 48.7909448918337,\n        \"min\": 26.35,\n        \"max\": 457.25,\n        \"num_unique_values\": 206,\n        \"samples\": [\n          184.45,\n          171.0\n        ],\n        \"semantic_type\": \"\",\n        \"description\": \"\"\n      }\n    },\n    {\n      \"column\": \"Tryglicerides\",\n      \"properties\": {\n        \"dtype\": \"number\",\n        \"std\": 52.53040171631099,\n        \"min\": 33.0,\n        \"max\": 598.0,\n        \"num_unique_values\": 154,\n        \"samples\": [\n          133.0,\n          175.0\n        ],\n        \"semantic_type\": \"\",\n        \"description\": \"\"\n      }\n    },\n    {\n      \"column\": \"Platelets\",\n      \"properties\": {\n        \"dtype\": \"number\",\n        \"std\": 87.4655785144104,\n        \"min\": 62.0,\n        \"max\": 563.0,\n        \"num_unique_values\": 227,\n        \"samples\": [\n          336.0,\n          327.0\n        ],\n        \"semantic_type\": \"\",\n        \"description\": \"\"\n      }\n    },\n    {\n      \"column\": \"Prothrombin\",\n      \"properties\": {\n        \"dtype\": \"number\",\n        \"std\": 0.7817348264911133,\n        \"min\": 9.0,\n        \"max\": 18.0,\n        \"num_unique_values\": 49,\n        \"samples\": [\n          12.1,\n          13.4\n        ],\n        \"semantic_type\": \"\",\n        \"description\": \"\"\n      }\n    },\n    {\n      \"column\": \"Stage\",\n      \"properties\": {\n        \"dtype\": \"number\",\n        \"std\": 0.86651062887286,\n        \"min\": 1.0,\n        \"max\": 4.0,\n        \"num_unique_values\": 4,\n        \"samples\": [\n          4.0,\n          1.0\n        ],\n        \"semantic_type\": \"\",\n        \"description\": \"\"\n      }\n    },\n    {\n      \"column\": \"S\",\n      \"properties\": {\n        \"dtype\": \"number\",\n        \"std\": 0,\n        \"min\": 0,\n        \"max\": 1,\n        \"num_unique_values\": 2,\n        \"samples\": [\n          1,\n          0\n        ],\n        \"semantic_type\": \"\",\n        \"description\": \"\"\n      }\n    },\n    {\n      \"column\": \"Y\",\n      \"properties\": {\n        \"dtype\": \"number\",\n        \"std\": 0,\n        \"min\": 0,\n        \"max\": 1,\n        \"num_unique_values\": 2,\n        \"samples\": [\n          1,\n          0\n        ],\n        \"semantic_type\": \"\",\n        \"description\": \"\"\n      }\n    }\n  ]\n}",
              "type": "dataframe",
              "variable_name": "X"
            },
            "text/html": [
              "\n",
              "  <div id=\"df-b05470ef-549e-40bf-bd3e-d910c66e1000\" class=\"colab-df-container\">\n",
              "    <div>\n",
              "<style scoped>\n",
              "    .dataframe tbody tr th:only-of-type {\n",
              "        vertical-align: middle;\n",
              "    }\n",
              "\n",
              "    .dataframe tbody tr th {\n",
              "        vertical-align: top;\n",
              "    }\n",
              "\n",
              "    .dataframe thead th {\n",
              "        text-align: right;\n",
              "    }\n",
              "</style>\n",
              "<table border=\"1\" class=\"dataframe\">\n",
              "  <thead>\n",
              "    <tr style=\"text-align: right;\">\n",
              "      <th></th>\n",
              "      <th>N_Days</th>\n",
              "      <th>Drug</th>\n",
              "      <th>Age</th>\n",
              "      <th>Hepatomegaly</th>\n",
              "      <th>Spiders</th>\n",
              "      <th>Bilirubin</th>\n",
              "      <th>Cholesterol</th>\n",
              "      <th>Albumin</th>\n",
              "      <th>Copper</th>\n",
              "      <th>SGOT</th>\n",
              "      <th>Tryglicerides</th>\n",
              "      <th>Platelets</th>\n",
              "      <th>Prothrombin</th>\n",
              "      <th>Stage</th>\n",
              "      <th>S</th>\n",
              "      <th>Y</th>\n",
              "    </tr>\n",
              "  </thead>\n",
              "  <tbody>\n",
              "    <tr>\n",
              "      <th>0</th>\n",
              "      <td>999</td>\n",
              "      <td>0</td>\n",
              "      <td>21532</td>\n",
              "      <td>0</td>\n",
              "      <td>0</td>\n",
              "      <td>2.3</td>\n",
              "      <td>316.0</td>\n",
              "      <td>3.35</td>\n",
              "      <td>172.0</td>\n",
              "      <td>179.80</td>\n",
              "      <td>63.0</td>\n",
              "      <td>394.0</td>\n",
              "      <td>9.7</td>\n",
              "      <td>3.0</td>\n",
              "      <td>0</td>\n",
              "      <td>0</td>\n",
              "    </tr>\n",
              "    <tr>\n",
              "      <th>1</th>\n",
              "      <td>2574</td>\n",
              "      <td>1</td>\n",
              "      <td>19237</td>\n",
              "      <td>0</td>\n",
              "      <td>0</td>\n",
              "      <td>0.9</td>\n",
              "      <td>364.0</td>\n",
              "      <td>3.54</td>\n",
              "      <td>63.0</td>\n",
              "      <td>134.85</td>\n",
              "      <td>88.0</td>\n",
              "      <td>361.0</td>\n",
              "      <td>11.0</td>\n",
              "      <td>3.0</td>\n",
              "      <td>0</td>\n",
              "      <td>0</td>\n",
              "    </tr>\n",
              "  </tbody>\n",
              "</table>\n",
              "</div>\n",
              "    <div class=\"colab-df-buttons\">\n",
              "\n",
              "  <div class=\"colab-df-container\">\n",
              "    <button class=\"colab-df-convert\" onclick=\"convertToInteractive('df-b05470ef-549e-40bf-bd3e-d910c66e1000')\"\n",
              "            title=\"Convert this dataframe to an interactive table.\"\n",
              "            style=\"display:none;\">\n",
              "\n",
              "  <svg xmlns=\"http://www.w3.org/2000/svg\" height=\"24px\" viewBox=\"0 -960 960 960\">\n",
              "    <path d=\"M120-120v-720h720v720H120Zm60-500h600v-160H180v160Zm220 220h160v-160H400v160Zm0 220h160v-160H400v160ZM180-400h160v-160H180v160Zm440 0h160v-160H620v160ZM180-180h160v-160H180v160Zm440 0h160v-160H620v160Z\"/>\n",
              "  </svg>\n",
              "    </button>\n",
              "\n",
              "  <style>\n",
              "    .colab-df-container {\n",
              "      display:flex;\n",
              "      gap: 12px;\n",
              "    }\n",
              "\n",
              "    .colab-df-convert {\n",
              "      background-color: #E8F0FE;\n",
              "      border: none;\n",
              "      border-radius: 50%;\n",
              "      cursor: pointer;\n",
              "      display: none;\n",
              "      fill: #1967D2;\n",
              "      height: 32px;\n",
              "      padding: 0 0 0 0;\n",
              "      width: 32px;\n",
              "    }\n",
              "\n",
              "    .colab-df-convert:hover {\n",
              "      background-color: #E2EBFA;\n",
              "      box-shadow: 0px 1px 2px rgba(60, 64, 67, 0.3), 0px 1px 3px 1px rgba(60, 64, 67, 0.15);\n",
              "      fill: #174EA6;\n",
              "    }\n",
              "\n",
              "    .colab-df-buttons div {\n",
              "      margin-bottom: 4px;\n",
              "    }\n",
              "\n",
              "    [theme=dark] .colab-df-convert {\n",
              "      background-color: #3B4455;\n",
              "      fill: #D2E3FC;\n",
              "    }\n",
              "\n",
              "    [theme=dark] .colab-df-convert:hover {\n",
              "      background-color: #434B5C;\n",
              "      box-shadow: 0px 1px 3px 1px rgba(0, 0, 0, 0.15);\n",
              "      filter: drop-shadow(0px 1px 2px rgba(0, 0, 0, 0.3));\n",
              "      fill: #FFFFFF;\n",
              "    }\n",
              "  </style>\n",
              "\n",
              "    <script>\n",
              "      const buttonEl =\n",
              "        document.querySelector('#df-b05470ef-549e-40bf-bd3e-d910c66e1000 button.colab-df-convert');\n",
              "      buttonEl.style.display =\n",
              "        google.colab.kernel.accessAllowed ? 'block' : 'none';\n",
              "\n",
              "      async function convertToInteractive(key) {\n",
              "        const element = document.querySelector('#df-b05470ef-549e-40bf-bd3e-d910c66e1000');\n",
              "        const dataTable =\n",
              "          await google.colab.kernel.invokeFunction('convertToInteractive',\n",
              "                                                    [key], {});\n",
              "        if (!dataTable) return;\n",
              "\n",
              "        const docLinkHtml = 'Like what you see? Visit the ' +\n",
              "          '<a target=\"_blank\" href=https://colab.research.google.com/notebooks/data_table.ipynb>data table notebook</a>'\n",
              "          + ' to learn more about interactive tables.';\n",
              "        element.innerHTML = '';\n",
              "        dataTable['output_type'] = 'display_data';\n",
              "        await google.colab.output.renderOutput(dataTable, element);\n",
              "        const docLink = document.createElement('div');\n",
              "        docLink.innerHTML = docLinkHtml;\n",
              "        element.appendChild(docLink);\n",
              "      }\n",
              "    </script>\n",
              "  </div>\n",
              "\n",
              "\n",
              "<div id=\"df-b267df3d-3d0c-4f90-b001-1b7e34235687\">\n",
              "  <button class=\"colab-df-quickchart\" onclick=\"quickchart('df-b267df3d-3d0c-4f90-b001-1b7e34235687')\"\n",
              "            title=\"Suggest charts\"\n",
              "            style=\"display:none;\">\n",
              "\n",
              "<svg xmlns=\"http://www.w3.org/2000/svg\" height=\"24px\"viewBox=\"0 0 24 24\"\n",
              "     width=\"24px\">\n",
              "    <g>\n",
              "        <path d=\"M19 3H5c-1.1 0-2 .9-2 2v14c0 1.1.9 2 2 2h14c1.1 0 2-.9 2-2V5c0-1.1-.9-2-2-2zM9 17H7v-7h2v7zm4 0h-2V7h2v10zm4 0h-2v-4h2v4z\"/>\n",
              "    </g>\n",
              "</svg>\n",
              "  </button>\n",
              "\n",
              "<style>\n",
              "  .colab-df-quickchart {\n",
              "      --bg-color: #E8F0FE;\n",
              "      --fill-color: #1967D2;\n",
              "      --hover-bg-color: #E2EBFA;\n",
              "      --hover-fill-color: #174EA6;\n",
              "      --disabled-fill-color: #AAA;\n",
              "      --disabled-bg-color: #DDD;\n",
              "  }\n",
              "\n",
              "  [theme=dark] .colab-df-quickchart {\n",
              "      --bg-color: #3B4455;\n",
              "      --fill-color: #D2E3FC;\n",
              "      --hover-bg-color: #434B5C;\n",
              "      --hover-fill-color: #FFFFFF;\n",
              "      --disabled-bg-color: #3B4455;\n",
              "      --disabled-fill-color: #666;\n",
              "  }\n",
              "\n",
              "  .colab-df-quickchart {\n",
              "    background-color: var(--bg-color);\n",
              "    border: none;\n",
              "    border-radius: 50%;\n",
              "    cursor: pointer;\n",
              "    display: none;\n",
              "    fill: var(--fill-color);\n",
              "    height: 32px;\n",
              "    padding: 0;\n",
              "    width: 32px;\n",
              "  }\n",
              "\n",
              "  .colab-df-quickchart:hover {\n",
              "    background-color: var(--hover-bg-color);\n",
              "    box-shadow: 0 1px 2px rgba(60, 64, 67, 0.3), 0 1px 3px 1px rgba(60, 64, 67, 0.15);\n",
              "    fill: var(--button-hover-fill-color);\n",
              "  }\n",
              "\n",
              "  .colab-df-quickchart-complete:disabled,\n",
              "  .colab-df-quickchart-complete:disabled:hover {\n",
              "    background-color: var(--disabled-bg-color);\n",
              "    fill: var(--disabled-fill-color);\n",
              "    box-shadow: none;\n",
              "  }\n",
              "\n",
              "  .colab-df-spinner {\n",
              "    border: 2px solid var(--fill-color);\n",
              "    border-color: transparent;\n",
              "    border-bottom-color: var(--fill-color);\n",
              "    animation:\n",
              "      spin 1s steps(1) infinite;\n",
              "  }\n",
              "\n",
              "  @keyframes spin {\n",
              "    0% {\n",
              "      border-color: transparent;\n",
              "      border-bottom-color: var(--fill-color);\n",
              "      border-left-color: var(--fill-color);\n",
              "    }\n",
              "    20% {\n",
              "      border-color: transparent;\n",
              "      border-left-color: var(--fill-color);\n",
              "      border-top-color: var(--fill-color);\n",
              "    }\n",
              "    30% {\n",
              "      border-color: transparent;\n",
              "      border-left-color: var(--fill-color);\n",
              "      border-top-color: var(--fill-color);\n",
              "      border-right-color: var(--fill-color);\n",
              "    }\n",
              "    40% {\n",
              "      border-color: transparent;\n",
              "      border-right-color: var(--fill-color);\n",
              "      border-top-color: var(--fill-color);\n",
              "    }\n",
              "    60% {\n",
              "      border-color: transparent;\n",
              "      border-right-color: var(--fill-color);\n",
              "    }\n",
              "    80% {\n",
              "      border-color: transparent;\n",
              "      border-right-color: var(--fill-color);\n",
              "      border-bottom-color: var(--fill-color);\n",
              "    }\n",
              "    90% {\n",
              "      border-color: transparent;\n",
              "      border-bottom-color: var(--fill-color);\n",
              "    }\n",
              "  }\n",
              "</style>\n",
              "\n",
              "  <script>\n",
              "    async function quickchart(key) {\n",
              "      const quickchartButtonEl =\n",
              "        document.querySelector('#' + key + ' button');\n",
              "      quickchartButtonEl.disabled = true;  // To prevent multiple clicks.\n",
              "      quickchartButtonEl.classList.add('colab-df-spinner');\n",
              "      try {\n",
              "        const charts = await google.colab.kernel.invokeFunction(\n",
              "            'suggestCharts', [key], {});\n",
              "      } catch (error) {\n",
              "        console.error('Error during call to suggestCharts:', error);\n",
              "      }\n",
              "      quickchartButtonEl.classList.remove('colab-df-spinner');\n",
              "      quickchartButtonEl.classList.add('colab-df-quickchart-complete');\n",
              "    }\n",
              "    (() => {\n",
              "      let quickchartButtonEl =\n",
              "        document.querySelector('#df-b267df3d-3d0c-4f90-b001-1b7e34235687 button');\n",
              "      quickchartButtonEl.style.display =\n",
              "        google.colab.kernel.accessAllowed ? 'block' : 'none';\n",
              "    })();\n",
              "  </script>\n",
              "</div>\n",
              "\n",
              "    </div>\n",
              "  </div>\n"
            ],
            "text/plain": [
              "   N_Days  Drug    Age  Hepatomegaly  Spiders  Bilirubin  Cholesterol  \\\n",
              "0     999     0  21532             0        0        2.3        316.0   \n",
              "1    2574     1  19237             0        0        0.9        364.0   \n",
              "\n",
              "   Albumin  Copper    SGOT  Tryglicerides  Platelets  Prothrombin  Stage  S  Y  \n",
              "0     3.35   172.0  179.80           63.0      394.0          9.7    3.0  0  0  \n",
              "1     3.54    63.0  134.85           88.0      361.0         11.0    3.0  0  0  "
            ]
          },
          "execution_count": 27,
          "metadata": {},
          "output_type": "execute_result"
        }
      ],
      "source": [
        "X.head(2)"
      ]
    },
    {
      "cell_type": "code",
      "execution_count": null,
      "metadata": {
        "id": "4RV54-KiacvT"
      },
      "outputs": [],
      "source": [
        "X = X.drop('id', axis=1)\n",
        "X = X.drop('Sex', axis=1)\n",
        "X = X.drop('Ascites', axis=1)\n",
        "X = X.drop('Alk_Phos', axis=1)"
      ]
    },
    {
      "cell_type": "code",
      "execution_count": null,
      "metadata": {
        "colab": {
          "base_uri": "https://localhost:8080/"
        },
        "id": "y6p1S28rb3Aw",
        "outputId": "280b9dee-9104-443e-be8e-4a0ad55071e3"
      },
      "outputs": [
        {
          "data": {
            "text/plain": [
              "(7905, 16)"
            ]
          },
          "execution_count": 13,
          "metadata": {},
          "output_type": "execute_result"
        }
      ],
      "source": [
        "X.shape"
      ]
    },
    {
      "cell_type": "code",
      "execution_count": null,
      "metadata": {
        "colab": {
          "base_uri": "https://localhost:8080/"
        },
        "id": "tWEG8Cu0VjVV",
        "outputId": "049bea2b-135f-4125-85fe-deda48e06794"
      },
      "outputs": [
        {
          "name": "stdout",
          "output_type": "stream",
          "text": [
            "Checking for NaN values in selected columns:\n",
            "N_Days           0\n",
            "Drug             0\n",
            "Age              0\n",
            "Hepatomegaly     0\n",
            "Spiders          0\n",
            "Bilirubin        0\n",
            "Cholesterol      0\n",
            "Albumin          0\n",
            "Copper           0\n",
            "SGOT             0\n",
            "Tryglicerides    0\n",
            "Platelets        0\n",
            "Prothrombin      0\n",
            "Stage            0\n",
            "S                0\n",
            "Y                0\n",
            "dtype: int64\n"
          ]
        }
      ],
      "source": [
        "print(\"Checking for NaN values in selected columns:\")\n",
        "print(X.isnull().sum())"
      ]
    },
    {
      "cell_type": "code",
      "execution_count": null,
      "metadata": {
        "colab": {
          "base_uri": "https://localhost:8080/"
        },
        "id": "jxxQhHm8Owvh",
        "outputId": "6f2fac17-8cdf-4ea5-d5d3-5eed2d1df8cc"
      },
      "outputs": [
        {
          "name": "stdout",
          "output_type": "stream",
          "text": [
            "Data shape after removing multivariate outliers: (7509, 16)\n"
          ]
        }
      ],
      "source": [
        "from sklearn.ensemble import IsolationForest\n",
        "data_no_outliers = X.copy()\n",
        "iso_forest = IsolationForest(contamination=0.05, random_state=42)\n",
        "\n",
        "data_no_outliers['anomaly'] = iso_forest.fit_predict(data_no_outliers)\n",
        "\n",
        "data_no_outliers = data_no_outliers[data_no_outliers['anomaly'] == 1]\n",
        "data_no_outliers.drop(columns=['anomaly'], inplace=True)\n",
        "print(f\"Data shape after removing multivariate outliers: {data_no_outliers.shape}\")\n"
      ]
    },
    {
      "cell_type": "code",
      "execution_count": null,
      "metadata": {
        "id": "eCVwcCn8P99v"
      },
      "outputs": [],
      "source": [
        "X_clean = data_no_outliers\n",
        "y_clean = y[data_no_outliers.index]"
      ]
    },
    {
      "cell_type": "code",
      "execution_count": null,
      "metadata": {
        "id": "He9X8v45Z55C"
      },
      "outputs": [],
      "source": [
        "from sklearn.preprocessing import PolynomialFeatures\n",
        "\n",
        "# Define the degree of interaction you want (degree=2 will give pairwise interactions)\n",
        "poly = PolynomialFeatures(degree=2, interaction_only=True, include_bias=False)\n",
        "\n",
        "# Transform the original feature set to include interaction terms\n",
        "X_interaction = poly.fit_transform(X_clean)\n",
        "\n",
        "# Get feature names (optional, for keeping track of new feature names)\n",
        "feature_names = poly.get_feature_names_out(input_features=X_clean.columns)\n",
        "\n",
        "# Convert to DataFrame for easier interpretation\n",
        "X_interaction_df = pd.DataFrame(X_interaction, columns=feature_names)\n",
        "\n",
        "# Optionally concatenate the interaction features with the original feature set\n",
        "X_combined = pd.concat([X_clean.reset_index(drop=True), X_interaction_df], axis=1)\n",
        "\n",
        "# View the new dataset with interaction terms\n",
        "print(X_combined.head())"
      ]
    },
    {
      "cell_type": "code",
      "execution_count": null,
      "metadata": {
        "colab": {
          "base_uri": "https://localhost:8080/"
        },
        "id": "uK-Yshc7V05b",
        "outputId": "28e5f958-f5a0-4594-cfd5-47cd3fada579"
      },
      "outputs": [
        {
          "name": "stdout",
          "output_type": "stream",
          "text": [
            "Original class distribution: Counter({0: 3942, 2: 1849, 1: 216})\n",
            "SMOTE class distribution: Counter({0: 3942, 2: 3942, 1: 3942})\n"
          ]
        }
      ],
      "source": [
        "X_train, X_test, y_train, y_test = train_test_split(X_clean, y_clean, test_size=0.2, random_state=42, stratify=y_clean)\n",
        "\n",
        "smote = SMOTE(random_state=42)\n",
        "X_train_smote, y_train_smote = smote.fit_resample(X_train, y_train)\n",
        "\n",
        "print('Original class distribution:', Counter(y_train))\n",
        "print('SMOTE class distribution:', Counter(y_train_smote))\n",
        "\n",
        "skf = RepeatedStratifiedKFold(n_splits=10, n_repeats=1, random_state=42)"
      ]
    },
    {
      "cell_type": "code",
      "execution_count": null,
      "metadata": {
        "colab": {
          "base_uri": "https://localhost:8080/"
        },
        "id": "-4fBWQPQVjSY",
        "outputId": "f5eb050c-5b96-43d4-c392-f2b185540a0e"
      },
      "outputs": [
        {
          "name": "stdout",
          "output_type": "stream",
          "text": [
            "The 10-folds oof Log-Loss score is 0.7562103231657423\n",
            "CPU times: user 62.1 ms, sys: 33.7 ms, total: 95.8 ms\n",
            "Wall time: 1.72 s\n"
          ]
        }
      ],
      "source": [
        "%%time\n",
        "logit_cv = cross_val_score(make_pipeline(PowerTransformer(), LogisticRegression(multi_class = 'ovr',\n",
        "                                                                                max_iter = 1000)),\n",
        "                           X_train_smote,\n",
        "                           y_train_smote,\n",
        "                           scoring = 'neg_log_loss',\n",
        "                           cv = skf,\n",
        "                           n_jobs = -1)\n",
        "\n",
        "print(f\"The 10-folds oof Log-Loss score is {-1*logit_cv.mean()}\")"
      ]
    },
    {
      "cell_type": "code",
      "execution_count": null,
      "metadata": {
        "colab": {
          "base_uri": "https://localhost:8080/"
        },
        "id": "fJvJgTH8boBy",
        "outputId": "7c914cfc-a33a-4196-ca52-058bb9e238cf"
      },
      "outputs": [
        {
          "name": "stdout",
          "output_type": "stream",
          "text": [
            "The 10-folds oof Log-Loss score of the RF is 0.36516947276480044\n",
            "CPU times: user 1.44 s, sys: 269 ms, total: 1.71 s\n",
            "Wall time: 4min 28s\n"
          ]
        }
      ],
      "source": [
        "%%time\n",
        "RF_cv = cross_val_score(RandomForestClassifier(**{'n_estimators': 1000,\n",
        "                                                  'criterion': 'log_loss',\n",
        "                                                  'max_depth': 14,\n",
        "                                                  'min_samples_split': 3,\n",
        "                                                  'min_samples_leaf': 1,\n",
        "                                                  'max_features': 4,\n",
        "                                                  'random_state': 1,\n",
        "                                                  'n_jobs': -1}),\n",
        "                        X_train_smote,\n",
        "                        y_train_smote,\n",
        "                        scoring = 'neg_log_loss',\n",
        "                        cv = skf,\n",
        "                        n_jobs = -1)\n",
        "\n",
        "print(f\"The 10-folds oof Log-Loss score of the RF is {-1*RF_cv.mean()}\")"
      ]
    },
    {
      "cell_type": "code",
      "execution_count": null,
      "metadata": {
        "colab": {
          "base_uri": "https://localhost:8080/"
        },
        "id": "STqV2Ms9QnZ0",
        "outputId": "da02f1cc-4f5b-4514-ac1a-f6b2719a6661"
      },
      "outputs": [
        {
          "name": "stdout",
          "output_type": "stream",
          "text": [
            "The average 10-folds oof Log-Loss score of the HG is 0.3977034967287164\n",
            "CPU times: user 405 ms, sys: 83 ms, total: 488 ms\n",
            "Wall time: 59.2 s\n"
          ]
        }
      ],
      "source": [
        "%%time\n",
        "HB_cv = cross_val_score(HistGradientBoostingClassifier(**{'l2_regularization': 8.876168706639714,\n",
        "                                                          'early_stopping': False,\n",
        "                                                          'learning_rate': 0.009956485590638034,\n",
        "                                                          'max_iter': 500,\n",
        "                                                          'max_depth': 16,\n",
        "                                                          'max_bins': 255,\n",
        "                                                          'min_samples_leaf': 16,\n",
        "                                                          'max_leaf_nodes': 18,\n",
        "                                                          'random_state': 3}),\n",
        "                        X_train_smote ,\n",
        "                        y_train_smote,\n",
        "                        scoring = 'neg_log_loss',\n",
        "                        cv = skf,\n",
        "                        n_jobs = -1)\n",
        "\n",
        "print(f\"The average 10-folds oof Log-Loss score of the HG is {-1*HB_cv.mean()}\")\n"
      ]
    },
    {
      "cell_type": "code",
      "execution_count": null,
      "metadata": {
        "colab": {
          "base_uri": "https://localhost:8080/"
        },
        "id": "dD7-dSFObn6x",
        "outputId": "b25113b9-d95f-4e7b-907f-6149c3aa4bd7"
      },
      "outputs": [
        {
          "name": "stdout",
          "output_type": "stream",
          "text": [
            "The average 10-folds oof Log-Loss score of the LGBM model is 0.3095953545769762\n",
            "CPU times: user 379 ms, sys: 91.2 ms, total: 470 ms\n",
            "Wall time: 56 s\n"
          ]
        }
      ],
      "source": [
        "%%time\n",
        "LGBM_cv = cross_val_score(LGBMClassifier(**{'n_estimators': 1000,\n",
        "                                            'learning_rate': 0.013657589160895923,\n",
        "                                            'max_depth': 17,\n",
        "                                            'reg_alpha': 1.9791969860931342,\n",
        "                                            'reg_lambda': 1.2857088172765347,\n",
        "                                            'num_leaves': 37,\n",
        "                                            'subsample': 0.6351453342675659,\n",
        "                                            'colsample_bytree': 0.2644509924064132}),\n",
        "                          X_train_smote,\n",
        "                          y_train_smote,\n",
        "                          scoring = 'neg_log_loss',\n",
        "                          cv = skf,\n",
        "                          n_jobs = -1)\n",
        "\n",
        "print(f\"The average 10-folds oof Log-Loss score of the LGBM model is {-1*LGBM_cv.mean()}\")"
      ]
    },
    {
      "cell_type": "code",
      "execution_count": null,
      "metadata": {
        "colab": {
          "base_uri": "https://localhost:8080/"
        },
        "id": "BJ48fA5Mbn27",
        "outputId": "2136bc24-13a7-423c-cd04-98bb54552c8c"
      },
      "outputs": [
        {
          "name": "stdout",
          "output_type": "stream",
          "text": [
            "The average 10-folds oof Log-Loss score of the XGBoost model is 0.30849004834386384\n",
            "CPU times: user 274 ms, sys: 128 ms, total: 402 ms\n",
            "Wall time: 36.6 s\n"
          ]
        }
      ],
      "source": [
        "%%time\n",
        "XGB_cv = cross_val_score(XGBClassifier(**{'max_depth': 7,\n",
        "                                          'learning_rate': 0.03570188608151033,\n",
        "                                          'n_estimators': 1000,\n",
        "                                          'gamma': 0.6440001307764849,\n",
        "                                          'min_child_weight': 2,\n",
        "                                          'colsample_bytree': 0.27034458854562116,\n",
        "                                          'subsample': 0.8435412915999765}),\n",
        "                          X_train_smote,\n",
        "                          y_train_smote,\n",
        "                          scoring = 'neg_log_loss',\n",
        "                          cv = skf,\n",
        "                          n_jobs = -1)\n",
        "\n",
        "print(f\"The average 10-folds oof Log-Loss score of the XGBoost model is {-1*XGB_cv.mean()}\")"
      ]
    },
    {
      "cell_type": "code",
      "execution_count": null,
      "metadata": {
        "colab": {
          "base_uri": "https://localhost:8080/"
        },
        "id": "OmeM4Vn_Vja7",
        "outputId": "955dd3f7-be83-48a3-b92d-c9c3194f6cc9"
      },
      "outputs": [
        {
          "name": "stdout",
          "output_type": "stream",
          "text": [
            "The average 10-folds oof Log-Loss score of the CatBoost model is 0.3501112453966212\n",
            "CPU times: user 2.88 s, sys: 607 ms, total: 3.49 s\n",
            "Wall time: 10min 7s\n"
          ]
        }
      ],
      "source": [
        "%%time\n",
        "Cat_cv = cross_val_score(CatBoostClassifier(loss_function = 'MultiClass',\n",
        "                                            iterations = 2000,\n",
        "                                            learning_rate = 0.01,\n",
        "                                            depth = 8,\n",
        "                                            verbose = False,\n",
        "                                            task_type = 'CPU'),\n",
        "                          X_train_smote,\n",
        "                          y_train_smote,\n",
        "                          scoring = 'neg_log_loss',\n",
        "                          cv = skf,\n",
        "                          n_jobs = -1)\n",
        "\n",
        "print(f\"The average 10-folds oof Log-Loss score of the CatBoost model is {-1*Cat_cv.mean()}\")\n"
      ]
    },
    {
      "cell_type": "code",
      "execution_count": null,
      "metadata": {
        "colab": {
          "base_uri": "https://localhost:8080/"
        },
        "id": "GsFLLWeeVjd9",
        "outputId": "11709050-9035-45b1-9dd0-e69645d84b9e"
      },
      "outputs": [
        {
          "name": "stdout",
          "output_type": "stream",
          "text": [
            "The 10-folds oof Log-Loss score of the ET is 0.5297411751209449\n",
            "CPU times: user 239 ms, sys: 88.7 ms, total: 328 ms\n",
            "Wall time: 35.9 s\n"
          ]
        }
      ],
      "source": [
        "%%time\n",
        "ET_cv = cross_val_score(ExtraTreesClassifier(criterion = 'log_loss',\n",
        "                                             n_estimators = 500,\n",
        "                                             min_samples_leaf = 3,\n",
        "                                             max_depth = 15,\n",
        "                                             random_state = 2),\n",
        "                        X_train_smote,\n",
        "                        y_train_smote,\n",
        "                        scoring = 'neg_log_loss',\n",
        "                        cv = skf,\n",
        "                        n_jobs = -1)\n",
        "\n",
        "print(f\"The 10-folds oof Log-Loss score of the ET is {-1*ET_cv.mean()}\")"
      ]
    },
    {
      "cell_type": "code",
      "execution_count": null,
      "metadata": {
        "colab": {
          "base_uri": "https://localhost:8080/"
        },
        "id": "Dvww6K2Onavz",
        "outputId": "6d6c412f-44d8-43ff-bb86-789cd9507aad"
      },
      "outputs": [
        {
          "name": "stdout",
          "output_type": "stream",
          "text": [
            "The average 10-fold OOF Log-Loss score of the KNN model is 0.7522\n"
          ]
        }
      ],
      "source": [
        "best_knn_params = {\n",
        "    'n_neighbors': 61,\n",
        "    'weights': 'uniform',\n",
        "    'p': 1\n",
        "}\n",
        "knn = KNeighborsClassifier(**best_knn_params)\n",
        "\n",
        "knn_cv = cross_val_score(\n",
        "    knn,\n",
        "    X_train_smote,\n",
        "    y_train_smote,          # SMOTE-augmented training labels\n",
        "    scoring='neg_log_loss',  # Use log-loss as the scoring metric\n",
        "    cv=skf,                  # StratifiedKFold cross-validation\n",
        "    n_jobs=-1                # Use all CPU cores\n",
        ")\n",
        "print(f\"The average 10-fold OOF Log-Loss score of the KNN model is {-1 * knn_cv.mean():.4f}\")"
      ]
    },
    {
      "cell_type": "code",
      "execution_count": null,
      "metadata": {
        "colab": {
          "base_uri": "https://localhost:8080/"
        },
        "id": "D7HPV5SYkGTN",
        "outputId": "a91e92e0-6c4e-4e3c-bcbf-ae30313a9527"
      },
      "outputs": [
        {
          "name": "stdout",
          "output_type": "stream",
          "text": [
            "The average 10-folds OOF Log-Loss score of the AdaBoost model is 1.104050\n",
            "CPU times: user 2.9 s, sys: 615 ms, total: 3.51 s\n",
            "Wall time: 4min 55s\n"
          ]
        }
      ],
      "source": [
        "%%time\n",
        "base_estimator = DecisionTreeClassifier(\n",
        "    max_depth=18,\n",
        "    min_samples_split=3,\n",
        "    min_samples_leaf=1,\n",
        "    ccp_alpha=0.3381770775051377\n",
        ")\n",
        "\n",
        "# AdaBoost model using the base estimator and other tuned parameters\n",
        "ada_model = AdaBoostClassifier(\n",
        "    estimator=base_estimator,  # Include the base estimator\n",
        "    n_estimators=166,\n",
        "    learning_rate=2.176465442176842\n",
        ")\n",
        "\n",
        "# Cross-validation using 10-folds and OOF Log-Loss scoring\n",
        "ada_cv = cross_val_score(ada_model,\n",
        "                         X_train_smote,\n",
        "                         y_train_smote,\n",
        "                         scoring='neg_log_loss',\n",
        "                         cv=skf,\n",
        "                         n_jobs=-1)\n",
        "\n",
        "# Print the average OOF Log-Loss score\n",
        "print(f\"The average 10-folds OOF Log-Loss score of the AdaBoost model is {-1 * ada_cv.mean():.6f}\")\n"
      ]
    },
    {
      "cell_type": "code",
      "execution_count": null,
      "metadata": {
        "colab": {
          "base_uri": "https://localhost:8080/"
        },
        "id": "c9cwFxrfVjgt",
        "outputId": "cda59535-8c39-4a15-de59-480726111778"
      },
      "outputs": [
        {
          "name": "stdout",
          "output_type": "stream",
          "text": [
            "The followig table shows the performance of the considered models: \n",
            "\n",
            "      Model  10-folds oof Log-Loss\n",
            "0  Logistic               0.756210\n",
            "1        RF               0.365169\n",
            "2        ET               0.529741\n",
            "3      Hist               0.397703\n",
            "4      LGBM               0.309595\n",
            "5   XGBoost               0.308490\n",
            "6  CatBoost               0.350111\n"
          ]
        }
      ],
      "source": [
        "model_performance = pd.DataFrame()\n",
        "model_performance['Model'] = ['Logistic', 'RF', 'ET', 'Hist', 'LGBM', 'XGBoost', 'CatBoost']\n",
        "model_performance['10-folds oof Log-Loss'] = [-1*logit_cv.mean(), -1*RF_cv.mean(), -1*ET_cv.mean(), -1*HB_cv.mean(), -1*LGBM_cv.mean(), -1*XGB_cv.mean(), -1*Cat_cv.mean()]\n",
        "print(f\"The followig table shows the performance of the considered models: \\n\\n{model_performance}\")"
      ]
    },
    {
      "cell_type": "code",
      "execution_count": null,
      "metadata": {
        "id": "fHa4PVBwVjjo"
      },
      "outputs": [],
      "source": [
        "md1 = make_pipeline(PowerTransformer(), LogisticRegression(multi_class = 'ovr',\n",
        "                                                           max_iter = 1000))\n",
        "\n",
        "md2 = RandomForestClassifier(**{'n_estimators': 1000,\n",
        "                                'criterion': 'log_loss',\n",
        "                                'max_depth': 14,\n",
        "                                'min_samples_split': 3,\n",
        "                                'min_samples_leaf': 1,\n",
        "                                'max_features': 4,\n",
        "                                'random_state': 1,\n",
        "                                'n_jobs': -1})\n",
        "\n",
        "md3 = ExtraTreesClassifier(criterion = 'log_loss',\n",
        "                           n_estimators = 1000,\n",
        "                           min_samples_leaf = 1,\n",
        "                           max_depth = 15,\n",
        "                           random_state = 2)\n",
        "\n",
        "md4 = HistGradientBoostingClassifier(**{'l2_regularization': 8.876168706639714,\n",
        "                                        'early_stopping': False,\n",
        "                                        'learning_rate': 0.009956485590638034,\n",
        "                                        'max_iter': 500,\n",
        "                                        'max_depth': 16,\n",
        "                                        'max_bins': 255,\n",
        "                                        'min_samples_leaf': 16,\n",
        "                                        'max_leaf_nodes': 18,\n",
        "                                        'random_state': 3})\n",
        "\n",
        "md5 = LGBMClassifier(**{'n_estimators': 1000,\n",
        "                        'learning_rate': 0.013657589160895923,\n",
        "                        'max_depth': 17,\n",
        "                        'reg_alpha': 1.9791969860931342,\n",
        "                        'reg_lambda': 1.2857088172765347,\n",
        "                        'num_leaves': 37,\n",
        "                        'subsample': 0.6351453342675659,\n",
        "                        'colsample_bytree': 0.2644509924064132})\n",
        "\n",
        "md6 = XGBClassifier(**{'max_depth': 7,\n",
        "                       'learning_rate': 0.03570188608151033,\n",
        "                       'n_estimators': 1000,\n",
        "                       'gamma': 0.6440001307764849,\n",
        "                       'min_child_weight': 2,\n",
        "                       'colsample_bytree': 0.27034458854562116,\n",
        "                       'subsample': 0.8435412915999765})\n",
        "\n",
        "md7 = CatBoostClassifier(loss_function = 'MultiClass',\n",
        "                         iterations = 2000,\n",
        "                         learning_rate = 0.01,\n",
        "                         depth = 8,\n",
        "                         verbose = False,\n",
        "                         task_type = 'CPU')"
      ]
    },
    {
      "cell_type": "code",
      "execution_count": null,
      "metadata": {
        "id": "8GHWC4Usxtp9"
      },
      "outputs": [],
      "source": [
        "m8= KNeighborsClassifier(\n",
        "    make_pipeline(PowerTransformer(), knn),\n",
        "    X_train_smote,\n",
        "    y_train_smote,\n",
        "    scoring='neg_log_loss',\n",
        "    cv=skf,\n",
        "    n_jobs=-1)"
      ]
    },
    {
      "cell_type": "code",
      "execution_count": null,
      "metadata": {
        "id": "qcVkHzThpQqF"
      },
      "outputs": [],
      "source": [
        "md1_pred, md2_pred, md3_pred, md4_pred, md5_pred, md6_pred, md7_pred = list(), list(), list(), list(), list(), list(), list()\n",
        "y_test_list = list()\n",
        "\n",
        "skf = StratifiedKFold(n_splits=10, shuffle=True, random_state=42)\n",
        "for i, (train_idx, test_idx) in enumerate(skf.split(X_clean, y_clean)):\n",
        "    X_train, X_test = X_clean.iloc[train_idx], X_clean.iloc[test_idx]\n",
        "    y_train, y_test = y_clean.iloc[train_idx], y_clean.iloc[test_idx]\n",
        "\n",
        "    smote = SMOTE(random_state=42)\n",
        "    X_train_smote, y_train_smote = smote.fit_resample(X_train, y_train)\n",
        "\n",
        "    md1.fit(X_train_smote, y_train_smote)\n",
        "    md1_pred.append(md1.predict_proba(X_test))\n",
        "\n",
        "    md2.fit(X_train_smote, y_train_smote)\n",
        "    md2_pred.append(md2.predict_proba(X_test))\n",
        "\n",
        "    md3.fit(X_train_smote, y_train_smote)\n",
        "    md3_pred.append(md3.predict_proba(X_test))\n",
        "\n",
        "    md4.fit(X_train_smote, y_train_smote)\n",
        "    md4_pred.append(md4.predict_proba(X_test))\n",
        "\n",
        "    md5.fit(X_train_smote, y_train_smote)\n",
        "    md5_pred.append(md5.predict_proba(X_test))\n",
        "\n",
        "    md6.fit(X_train_smote, y_train_smote)\n",
        "    md6_pred.append(md6.predict_proba(X_test))\n",
        "\n",
        "    md7.fit(X_train_smote, y_train_smote)\n",
        "    md7_pred.append(md7.predict_proba(X_test))\n",
        "\n",
        "    y_test_list.append(y_test)"
      ]
    },
    {
      "cell_type": "code",
      "execution_count": null,
      "metadata": {
        "id": "cRM8K0Ip1MAY"
      },
      "outputs": [],
      "source": [
        "md4_pred, md5_pred, md6_pred = list(), list(), list()\n",
        "md1_pred, md2_pred, md3_pred, md7_pred = list(), list(), list(), list()\n",
        "Y_test_list = list()\n",
        "\n",
        "smote = SMOTE(random_state=42)\n",
        "\n",
        "skf = RepeatedStratifiedKFold(n_splits=10, n_repeats=1, random_state=42)\n",
        "\n",
        "for train_idx, test_idx in skf.split(X_clean, y_clean):\n",
        "\n",
        "    X_train, X_test = X_clean.iloc[train_idx], X_clean.iloc[test_idx]\n",
        "    y_train, y_test = y_clean.iloc[train_idx], y_clean.iloc[test_idx]\n",
        "\n",
        "    X_train_smote, y_train_smote = smote.fit_resample(X_train, y_train)\n",
        "\n",
        "    md4.fit(X_train_smote, y_train_smote)\n",
        "    md5.fit(X_train_smote, y_train_smote)\n",
        "    md6.fit(X_train_smote, y_train_smote)\n",
        "    md1.fit(X_train_smote, y_train_smote)\n",
        "    md2.fit(X_train_smote, y_train_smote)\n",
        "    md3.fit(X_train_smote, y_train_smote)\n",
        "    md7.fit(X_train_smote, y_train_smote)\n",
        "\n",
        "\n",
        "    md4_pred.append(md4.predict_proba(X_test))\n",
        "    md5_pred.append(md5.predict_proba(X_test))\n",
        "    md6_pred.append(md6.predict_proba(X_test))\n",
        "    md1_pred.append(md1.predict_proba(X_test))\n",
        "    md2_pred.append(md2.predict_proba(X_test))\n",
        "    md3_pred.append(md3.predict_proba(X_test))\n",
        "    md7_pred.append(md7.predict_proba(X_test))\n",
        "\n",
        "    Y_test_list.append(y_test)\n",
        "\n",
        "md4_all_preds = np.concatenate([np.argmax(pred, axis=1) for pred in md4_pred], axis=0)\n",
        "md5_all_preds = np.concatenate([np.argmax(pred, axis=1) for pred in md5_pred], axis=0)\n",
        "md6_all_preds = np.concatenate([np.argmax(pred, axis=1) for pred in md6_pred], axis=0)\n",
        "md1_all_preds = np.concatenate([np.argmax(pred, axis=1) for pred in md1_pred], axis=0)\n",
        "md2_all_preds = np.concatenate([np.argmax(pred, axis=1) for pred in md2_pred], axis=0)\n",
        "md3_all_preds = np.concatenate([np.argmax(pred, axis=1) for pred in md3_pred], axis=0)\n",
        "md7_all_preds = np.concatenate([np.argmax(pred, axis=1) for pred in md7_pred], axis=0)\n",
        "\n",
        "Y_test_all = np.concatenate(Y_test_list, axis=0)\n"
      ]
    },
    {
      "cell_type": "code",
      "execution_count": null,
      "metadata": {
        "colab": {
          "base_uri": "https://localhost:8080/"
        },
        "id": "RY-GfKNBzWy4",
        "outputId": "71d80b07-fb00-4fb2-edff-94d78e6d5faf"
      },
      "outputs": [
        {
          "name": "stdout",
          "output_type": "stream",
          "text": [
            "md4 Accuracy: 0.8014382740711147\n",
            "md5 Accuracy: 0.82074843521108\n",
            "md6 Accuracy: 0.8224796910374218\n",
            "md1 Accuracy: 0.7142096151285124\n",
            "md2 Accuracy: 0.8019709681715275\n",
            "md3 Accuracy: 0.7901185244373419\n",
            "md7 Accuracy: 0.8043680916233853\n"
          ]
        }
      ],
      "source": [
        "# Concatenate all true labels from all folds\n",
        "Y_test_all = np.concatenate(y_test_list, axis=0)\n",
        "\n",
        "# Calculate accuracy for each model\n",
        "md4_accuracy = accuracy_score(Y_test_all, md4_all_preds)\n",
        "md5_accuracy = accuracy_score(Y_test_all, md5_all_preds)\n",
        "md6_accuracy = accuracy_score(Y_test_all, md6_all_preds)\n",
        "md1_accuracy = accuracy_score(Y_test_all, md1_all_preds)\n",
        "md2_accuracy = accuracy_score(Y_test_all, md2_all_preds)\n",
        "md3_accuracy = accuracy_score(Y_test_all, md3_all_preds)\n",
        "md7_accuracy = accuracy_score(Y_test_all, md7_all_preds)\n",
        "\n",
        "# Print accuracies\n",
        "print(f\"md4 Accuracy: {md4_accuracy}\")\n",
        "print(f\"md5 Accuracy: {md5_accuracy}\")\n",
        "print(f\"md6 Accuracy: {md6_accuracy}\")\n",
        "print(f\"md1 Accuracy: {md1_accuracy}\")\n",
        "print(f\"md2 Accuracy: {md2_accuracy}\")\n",
        "print(f\"md3 Accuracy: {md3_accuracy}\")\n",
        "print(f\"md7 Accuracy: {md7_accuracy}\")"
      ]
    },
    {
      "cell_type": "code",
      "execution_count": null,
      "metadata": {
        "id": "CsRMHGm3ruba"
      },
      "outputs": [],
      "source": [
        "md4_pred.append(md4.predict_proba(X_test))\n",
        "md5_pred.append(md5.predict_proba(X_test))\n",
        "md6_pred.append(md6.predict_proba(X_test))\n",
        "md1_pred.append(md1.predict_proba(X_test))\n",
        "md2_pred.append(md2.predict_proba(X_test))\n",
        "md3_pred.append(md3.predict_proba(X_test))\n",
        "md7_pred.append(md7.predict_proba(X_test))"
      ]
    },
    {
      "cell_type": "code",
      "execution_count": null,
      "metadata": {
        "colab": {
          "base_uri": "https://localhost:8080/"
        },
        "id": "dr6Nw0NFvC5b",
        "outputId": "72b74d4b-9b67-4394-e8fe-3dfea9e100ae"
      },
      "outputs": [
        {
          "name": "stdout",
          "output_type": "stream",
          "text": [
            "md4 F1-score: 0.8033991481124323\n",
            "md4 Recall: 0.8014382740711147\n",
            "md4 Precision: 0.8059709244274316\n",
            "\n",
            "md5 F1-score: 0.8156368764510278\n",
            "md5 Recall: 0.82074843521108\n",
            "md5 Precision: 0.8131485059620428\n",
            "\n",
            "md6 F1-score: 0.8177975978148545\n",
            "md6 Recall: 0.8224796910374218\n",
            "md6 Precision: 0.8150838977915976\n",
            "\n",
            "md1 F1-score: 0.7444067842402312\n",
            "md1 Recall: 0.7142096151285124\n",
            "md1 Precision: 0.7859248900116284\n",
            "\n",
            "md2 F1-score: 0.8016596712177458\n",
            "md2 Recall: 0.8019709681715275\n",
            "md2 Precision: 0.8013542339853352\n",
            "\n",
            "md3 F1-score: 0.7934214117050064\n",
            "md3 Recall: 0.7901185244373419\n",
            "md3 Precision: 0.7971497822722525\n",
            "\n",
            "md7 F1-score: 0.8040544764513236\n",
            "md7 Recall: 0.8043680916233853\n",
            "md7 Precision: 0.8037575563434426\n",
            "\n"
          ]
        }
      ],
      "source": [
        "from sklearn.metrics import f1_score, recall_score, precision_score\n",
        "\n",
        "md4_all_preds = np.concatenate([np.argmax(pred, axis=1) for pred in md4_pred], axis=0)\n",
        "md5_all_preds = np.concatenate([np.argmax(pred, axis=1) for pred in md5_pred], axis=0)\n",
        "md6_all_preds = np.concatenate([np.argmax(pred, axis=1) for pred in md6_pred], axis=0)\n",
        "md1_all_preds = np.concatenate([np.argmax(pred, axis=1) for pred in md1_pred], axis=0)\n",
        "md2_all_preds = np.concatenate([np.argmax(pred, axis=1) for pred in md2_pred], axis=0)\n",
        "md3_all_preds = np.concatenate([np.argmax(pred, axis=1) for pred in md3_pred], axis=0)\n",
        "md7_all_preds = np.concatenate([np.argmax(pred, axis=1) for pred in md7_pred], axis=0)\n",
        "\n",
        "Y_test_all = np.concatenate(Y_test_list, axis=0)\n",
        "\n",
        "def calculate_metrics(y_true, y_pred, model_name):\n",
        "    f1 = f1_score(y_true, y_pred, average='weighted')\n",
        "    recall = recall_score(y_true, y_pred, average='weighted')\n",
        "    precision = precision_score(y_true, y_pred, average='weighted')\n",
        "\n",
        "    print(f\"{model_name} F1-score: {f1}\")\n",
        "    print(f\"{model_name} Recall: {recall}\")\n",
        "    print(f\"{model_name} Precision: {precision}\")\n",
        "    print(\"\")\n",
        "\n",
        "calculate_metrics(Y_test_all, md4_all_preds, \"md4\")\n",
        "calculate_metrics(Y_test_all, md5_all_preds, \"md5\")\n",
        "calculate_metrics(Y_test_all, md6_all_preds, \"md6\")\n",
        "calculate_metrics(Y_test_all, md1_all_preds, \"md1\")\n",
        "calculate_metrics(Y_test_all, md2_all_preds, \"md2\")\n",
        "calculate_metrics(Y_test_all, md3_all_preds, \"md3\")\n",
        "calculate_metrics(Y_test_all, md7_all_preds, \"md7\")\n"
      ]
    },
    {
      "cell_type": "code",
      "execution_count": null,
      "metadata": {
        "colab": {
          "base_uri": "https://localhost:8080/"
        },
        "id": "w3JT-1Gd72XK",
        "outputId": "739d5231-5b22-4a28-af8d-c90fb2d59cbc"
      },
      "outputs": [
        {
          "name": "stdout",
          "output_type": "stream",
          "text": [
            "Log Loss for md1: 0.734406\n",
            "Log Loss for md2: 0.519154\n",
            "Log Loss for md3: 0.594114\n",
            "Log Loss for md4: 0.512481\n",
            "Log Loss for md5: 0.463641\n",
            "Log Loss for md6: 0.466752\n",
            "Log Loss for md7: 0.502974\n"
          ]
        }
      ],
      "source": [
        "from sklearn.metrics import log_loss\n",
        "\n",
        "Y_test_all = np.concatenate(y_test_list, axis=0)\n",
        "md1_all_probs = np.concatenate(md1_pred, axis=0)\n",
        "md2_all_probs = np.concatenate(md2_pred, axis=0)\n",
        "md3_all_probs = np.concatenate(md3_pred, axis=0)\n",
        "md4_all_probs = np.concatenate(md4_pred, axis=0)\n",
        "md5_all_probs = np.concatenate(md5_pred, axis=0)\n",
        "md6_all_probs = np.concatenate(md6_pred, axis=0)\n",
        "md7_all_probs = np.concatenate(md7_pred, axis=0)\n",
        "\n",
        "md1_log_loss = log_loss(Y_test_all, md1_all_probs)\n",
        "md2_log_loss = log_loss(Y_test_all, md2_all_probs)\n",
        "md3_log_loss = log_loss(Y_test_all, md3_all_probs)\n",
        "md4_log_loss = log_loss(Y_test_all, md4_all_probs)\n",
        "md5_log_loss = log_loss(Y_test_all, md5_all_probs)\n",
        "md6_log_loss = log_loss(Y_test_all, md6_all_probs)\n",
        "md7_log_loss = log_loss(Y_test_all, md7_all_probs)\n",
        "\n",
        "# Print log loss for each model\n",
        "print(f\"Log Loss for md1: {md1_log_loss:.6f}\")\n",
        "print(f\"Log Loss for md2: {md2_log_loss:.6f}\")\n",
        "print(f\"Log Loss for md3: {md3_log_loss:.6f}\")\n",
        "print(f\"Log Loss for md4: {md4_log_loss:.6f}\")\n",
        "print(f\"Log Loss for md5: {md5_log_loss:.6f}\")\n",
        "print(f\"Log Loss for md6: {md6_log_loss:.6f}\")\n",
        "print(f\"Log Loss for md7: {md7_log_loss:.6f}\")\n"
      ]
    },
    {
      "cell_type": "code",
      "execution_count": null,
      "metadata": {
        "colab": {
          "base_uri": "https://localhost:8080/",
          "height": 584
        },
        "id": "ze-hv4OE61SQ",
        "outputId": "8fd71301-c8b2-4553-cb43-94475e901dfb"
      },
      "outputs": [
        {
          "data": {
            "image/png": "[encoded data removed]",
            "text/plain": [
              "<Figure size 1000x800 with 1 Axes>"
            ]
          },
          "metadata": {},
          "output_type": "display_data"
        }
      ],
      "source": [
        "\n",
        "n_classes = 3\n",
        "\n",
        "Y_test_all = np.concatenate(Y_test_list, axis=0)\n",
        "Y_test_binarized = label_binarize(Y_test_all, classes=[0, 1, 2])\n",
        "\n",
        "models_probs = {\n",
        "    'Logistic Regression': np.concatenate(md1_pred, axis=0),\n",
        "    'Random Forest': np.concatenate(md2_pred, axis=0),\n",
        "    'Extra Trees': np.concatenate(md3_pred, axis=0),\n",
        "    'HistGradientBoosting': np.concatenate(md4_pred, axis=0),\n",
        "    'LightGBM': np.concatenate(md5_pred, axis=0),\n",
        "    'XGBoost': np.concatenate(md6_pred, axis=0),\n",
        "    'CatBoost': np.concatenate(md7_pred, axis=0)\n",
        "}\n",
        "\n",
        "\n",
        "plt.figure(figsize=(10, 8))\n",
        "\n",
        "for model_name, y_pred_proba in models_probs.items():\n",
        "\n",
        "    assert y_pred_proba.shape[0] == Y_test_binarized.shape[0], f\"Mismatch in samples for {model_name}\"\n",
        "    fpr, tpr, roc_auc = dict(), dict(), dict()\n",
        "\n",
        "    for i in range(n_classes):\n",
        "        fpr[i], tpr[i], _ = roc_curve(Y_test_binarized[:, i], y_pred_proba[:, i])\n",
        "        roc_auc[i] = auc(fpr[i], tpr[i])\n",
        "    fpr[\"micro\"], tpr[\"micro\"], _ = roc_curve(Y_test_binarized.ravel(), y_pred_proba.ravel())\n",
        "    roc_auc[\"micro\"] = auc(fpr[\"micro\"], tpr[\"micro\"])\n",
        "    plt.plot(fpr[\"micro\"], tpr[\"micro\"], label=f'{model_name} (AUC = {roc_auc[\"micro\"]:.2f})')\n",
        "plt.plot([0, 1], [0, 1], 'k--', lw=2)\n",
        "\n",
        "plt.xlabel('False Positive Rate')\n",
        "plt.ylabel('True Positive Rate')\n",
        "plt.title('ROC Curve for All Models')\n",
        "plt.legend(loc='lower right')\n",
        "plt.grid()\n",
        "plt.show()\n"
      ]
    },
    {
      "cell_type": "code",
      "execution_count": null,
      "metadata": {
        "colab": {
          "base_uri": "https://localhost:8080/"
        },
        "id": "NUVNkD_U9Ot-",
        "outputId": "2ed3b107-3d62-481c-d049-176231849380"
      },
      "outputs": [
        {
          "name": "stdout",
          "output_type": "stream",
          "text": [
            "Classification Report for Model 1 (md1):\n",
            "              precision    recall  f1-score   support\n",
            "\n",
            "           0       0.87      0.77      0.81      4928\n",
            "           1       0.11      0.43      0.18       270\n",
            "           2       0.69      0.63      0.66      2311\n",
            "\n",
            "    accuracy                           0.71      7509\n",
            "   macro avg       0.56      0.61      0.55      7509\n",
            "weighted avg       0.79      0.71      0.74      7509\n",
            "\n",
            "Classification Report for Model 2 (md2):\n",
            "              precision    recall  f1-score   support\n",
            "\n",
            "           0       0.87      0.87      0.87      4928\n",
            "           1       0.31      0.30      0.30       270\n",
            "           2       0.72      0.72      0.72      2311\n",
            "\n",
            "    accuracy                           0.80      7509\n",
            "   macro avg       0.63      0.63      0.63      7509\n",
            "weighted avg       0.80      0.80      0.80      7509\n",
            "\n",
            "Classification Report for Model 3 (md3):\n",
            "              precision    recall  f1-score   support\n",
            "\n",
            "           0       0.87      0.85      0.86      4928\n",
            "           1       0.23      0.29      0.25       270\n",
            "           2       0.72      0.73      0.72      2311\n",
            "\n",
            "    accuracy                           0.79      7509\n",
            "   macro avg       0.60      0.62      0.61      7509\n",
            "weighted avg       0.80      0.79      0.79      7509\n",
            "\n",
            "Classification Report for Model 4 (md4):\n",
            "              precision    recall  f1-score   support\n",
            "\n",
            "           0       0.87      0.87      0.87      4928\n",
            "           1       0.26      0.33      0.29       270\n",
            "           2       0.74      0.71      0.73      2311\n",
            "\n",
            "    accuracy                           0.80      7509\n",
            "   macro avg       0.62      0.64      0.63      7509\n",
            "weighted avg       0.81      0.80      0.80      7509\n",
            "\n",
            "Classification Report for Model 5 (md5):\n",
            "              precision    recall  f1-score   support\n",
            "\n",
            "           0       0.86      0.90      0.88      4928\n",
            "           1       0.45      0.27      0.34       270\n",
            "           2       0.76      0.71      0.73      2311\n",
            "\n",
            "    accuracy                           0.82      7509\n",
            "   macro avg       0.69      0.63      0.65      7509\n",
            "weighted avg       0.81      0.82      0.82      7509\n",
            "\n",
            "Classification Report for Model 6 (md6):\n",
            "              precision    recall  f1-score   support\n",
            "\n",
            "           0       0.86      0.90      0.88      4928\n",
            "           1       0.41      0.26      0.32       270\n",
            "           2       0.76      0.72      0.74      2311\n",
            "\n",
            "    accuracy                           0.82      7509\n",
            "   macro avg       0.68      0.63      0.65      7509\n",
            "weighted avg       0.82      0.82      0.82      7509\n",
            "\n",
            "Classification Report for Model 7 (md7):\n",
            "              precision    recall  f1-score   support\n",
            "\n",
            "           0       0.87      0.87      0.87      4928\n",
            "           1       0.29      0.29      0.29       270\n",
            "           2       0.73      0.72      0.73      2311\n",
            "\n",
            "    accuracy                           0.80      7509\n",
            "   macro avg       0.63      0.63      0.63      7509\n",
            "weighted avg       0.80      0.80      0.80      7509\n",
            "\n"
          ]
        }
      ],
      "source": [
        "import numpy as np\n",
        "from sklearn.model_selection import StratifiedKFold\n",
        "from imblearn.over_sampling import SMOTE\n",
        "from sklearn.metrics import classification_report\n",
        "\n",
        "# Generate and print classification reports for each model\n",
        "print(\"Classification Report for Model 1 (md1):\")\n",
        "print(classification_report(Y_test_all, md1_all_preds))\n",
        "\n",
        "print(\"Classification Report for Model 2 (md2):\")\n",
        "print(classification_report(Y_test_all, md2_all_preds))\n",
        "\n",
        "print(\"Classification Report for Model 3 (md3):\")\n",
        "print(classification_report(Y_test_all, md3_all_preds))\n",
        "\n",
        "print(\"Classification Report for Model 4 (md4):\")\n",
        "print(classification_report(Y_test_all, md4_all_preds))\n",
        "\n",
        "print(\"Classification Report for Model 5 (md5):\")\n",
        "print(classification_report(Y_test_all, md5_all_preds))\n",
        "\n",
        "print(\"Classification Report for Model 6 (md6):\")\n",
        "print(classification_report(Y_test_all, md6_all_preds))\n",
        "\n",
        "print(\"Classification Report for Model 7 (md7):\")\n",
        "print(classification_report(Y_test_all, md7_all_preds))\n"
      ]
    },
    {
      "cell_type": "code",
      "execution_count": null,
      "metadata": {
        "colab": {
          "base_uri": "https://localhost:8080/",
          "height": 1000
        },
        "id": "vEfyuY459rXW",
        "outputId": "3a62e2d2-f133-4248-fa9b-8dbbc64d1dc5"
      },
      "outputs": [
        {
          "data": {
            "image/png": "[encoded data removed]",
            "text/plain": [
              "<Figure size 1000x600 with 2 Axes>"
            ]
          },
          "metadata": {},
          "output_type": "display_data"
        },
        {
          "data": {
            "image/png": "[encoded data removed]",
            "text/plain": [
              "<Figure size 1000x600 with 2 Axes>"
            ]
          },
          "metadata": {},
          "output_type": "display_data"
        },
        {
          "data": {
            "image/png": "[encoded data removed]",
            "text/plain": [
              "<Figure size 1000x600 with 2 Axes>"
            ]
          },
          "metadata": {},
          "output_type": "display_data"
        },
        {
          "data": {
            "image/png": "[encoded data removed]",
            "text/plain": [
              "<Figure size 1000x600 with 2 Axes>"
            ]
          },
          "metadata": {},
          "output_type": "display_data"
        },
        {
          "data": {
            "image/png": "[encoded data removed]",
            "text/plain": [
              "<Figure size 1000x600 with 2 Axes>"
            ]
          },
          "metadata": {},
          "output_type": "display_data"
        },
        {
          "data": {
            "image/png": "[encoded data removed]",
            "text/plain": [
              "<Figure size 1000x600 with 2 Axes>"
            ]
          },
          "metadata": {},
          "output_type": "display_data"
        },
        {
          "data": {
            "image/png": "[encoded data removed]",
            "text/plain": [
              "<Figure size 1000x600 with 2 Axes>"
            ]
          },
          "metadata": {},
          "output_type": "display_data"
        }
      ],
      "source": [
        "import numpy as np\n",
        "import pandas as pd\n",
        "import seaborn as sns\n",
        "import matplotlib.pyplot as plt\n",
        "from sklearn.model_selection import StratifiedKFold\n",
        "from imblearn.over_sampling import SMOTE\n",
        "from sklearn.metrics import classification_report, confusion_matrix\n",
        "\n",
        "def visualize_classification_report(y_true, y_pred, model_name):\n",
        "    report = classification_report(y_true, y_pred, output_dict=True)\n",
        "    df_report = pd.DataFrame(report).transpose()\n",
        "\n",
        "    # Filter out the rows for accuracy and macro avg\n",
        "    df_report = df_report.drop(index=['accuracy', 'macro avg'])\n",
        "\n",
        "    plt.figure(figsize=(10, 6))\n",
        "    sns.heatmap(df_report.iloc[:, :-1], annot=True, cmap='Blues', fmt='.2f', cbar=True, square=True)\n",
        "    plt.title(f'Classification Report Heatmap for {model_name}')\n",
        "    plt.xlabel('Metrics')\n",
        "    plt.ylabel('Classes')\n",
        "    plt.xticks(rotation=45)\n",
        "    plt.yticks(rotation=0)\n",
        "    plt.show()\n",
        "\n",
        "# Generate and visualize classification reports for each model\n",
        "visualize_classification_report(Y_test_all, md1_all_preds, \"Model 1 (md1)\")\n",
        "visualize_classification_report(Y_test_all, md2_all_preds, \"Model 2 (md2)\")\n",
        "visualize_classification_report(Y_test_all, md3_all_preds, \"Model 3 (md3)\")\n",
        "visualize_classification_report(Y_test_all, md4_all_preds, \"Model 4 (md4)\")\n",
        "visualize_classification_report(Y_test_all, md5_all_preds, \"Model 5 (md5)\")\n",
        "visualize_classification_report(Y_test_all, md6_all_preds, \"Model 6 (md6)\")\n",
        "visualize_classification_report(Y_test_all, md7_all_preds, \"Model 7 (md7)\")\n"
      ]
    },
    {
      "cell_type": "code",
      "execution_count": null,
      "metadata": {
        "colab": {
          "base_uri": "https://localhost:8080/"
        },
        "id": "k0snKYHY-_eB",
        "outputId": "bc7d547f-0d28-467d-9c8e-4b3df2817529"
      },
      "outputs": [
        {
          "name": "stdout",
          "output_type": "stream",
          "text": [
            "MCC for Model 1 (md1): 0.4664\n",
            "MCC for Model 2 (md2): 0.5810\n",
            "MCC for Model 3 (md3): 0.5638\n",
            "MCC for Model 4 (md4): 0.5819\n",
            "MCC for Model 5 (md5): 0.6102\n",
            "MCC for Model 6 (md6): 0.6150\n",
            "MCC for Model 7 (md7): 0.5856\n"
          ]
        }
      ],
      "source": [
        "from sklearn.metrics import matthews_corrcoef\n",
        "\n",
        "# Assuming md1_all_preds, md2_all_preds, etc. contain the predicted class labels for each model\n",
        "md1_mcc = matthews_corrcoef(Y_test_all, md1_all_preds)\n",
        "md2_mcc = matthews_corrcoef(Y_test_all, md2_all_preds)\n",
        "md3_mcc = matthews_corrcoef(Y_test_all, md3_all_preds)\n",
        "md4_mcc = matthews_corrcoef(Y_test_all, md4_all_preds)\n",
        "md5_mcc = matthews_corrcoef(Y_test_all, md5_all_preds)\n",
        "md6_mcc = matthews_corrcoef(Y_test_all, md6_all_preds)\n",
        "md7_mcc = matthews_corrcoef(Y_test_all, md7_all_preds)\n",
        "\n",
        "# Print MCC for each model\n",
        "print(f\"MCC for Model 1 (md1): {md1_mcc:.4f}\")\n",
        "print(f\"MCC for Model 2 (md2): {md2_mcc:.4f}\")\n",
        "print(f\"MCC for Model 3 (md3): {md3_mcc:.4f}\")\n",
        "print(f\"MCC for Model 4 (md4): {md4_mcc:.4f}\")\n",
        "print(f\"MCC for Model 5 (md5): {md5_mcc:.4f}\")\n",
        "print(f\"MCC for Model 6 (md6): {md6_mcc:.4f}\")\n",
        "print(f\"MCC for Model 7 (md7): {md7_mcc:.4f}\")\n"
      ]
    },
    {
      "cell_type": "code",
      "execution_count": null,
      "metadata": {
        "id": "0s72VvQo-_a0"
      },
      "outputs": [],
      "source": []
    },
    {
      "cell_type": "code",
      "execution_count": null,
      "metadata": {
        "id": "xQmC3qbiVkaa"
      },
      "outputs": [],
      "source": [
        "from imblearn.over_sampling import SMOTE\n",
        "from sklearn.model_selection import StratifiedKFold, RepeatedStratifiedKFold\n",
        "from sklearn.metrics import accuracy_score\n",
        "import numpy as np\n",
        "\n",
        "# Initialize your models\n",
        "md1 = ...\n",
        "md2 = ...\n",
        "md3 = ...\n",
        "md4 = ...\n",
        "md5 = ...\n",
        "md6 = ...\n",
        "md7 = ...\n",
        "\n",
        "# Initialize the lists to hold the predictions and true labels for each fold\n",
        "md1_pred, md2_pred, md3_pred, md4_pred, md5_pred, md6_pred, md7_pred = [], [], [], [], [], [], []\n",
        "y_test_list = []\n",
        "\n",
        "# Create a stratified K-Fold object\n",
        "skf = StratifiedKFold(n_splits=10, shuffle=True, random_state=42)\n",
        "\n",
        "# Perform stratified K-fold cross-validation\n",
        "for i, (train_idx, test_idx) in enumerate(skf.split(X_clean, y_clean)):\n",
        "    X_train, X_test = X_clean.iloc[train_idx], X_clean.iloc[test_idx]\n",
        "    y_train, y_test = y_clean.iloc[train_idx], y_clean.iloc[test_idx]\n",
        "\n",
        "    # Apply SMOTE to the training set\n",
        "    smote = SMOTE(random_state=42)\n",
        "    X_train_smote, y_train_smote = smote.fit_resample(X_train, y_train)\n",
        "\n",
        "    # Train and predict with each model\n",
        "    md1.fit(X_train_smote, y_train_smote)\n",
        "    md1_pred.append(md1.predict_proba(X_test))\n",
        "\n",
        "    md2.fit(X_train_smote, y_train_smote)\n",
        "    md2_pred.append(md2.predict_proba(X_test))\n",
        "\n",
        "    md3.fit(X_train_smote, y_train_smote)\n",
        "    md3_pred.append(md3.predict_proba(X_test))\n",
        "\n",
        "    md4.fit(X_train_smote, y_train_smote)\n",
        "    md4_pred.append(md4.predict_proba(X_test))\n",
        "\n",
        "    md5.fit(X_train_smote, y_train_smote)\n",
        "    md5_pred.append(md5.predict_proba(X_test))\n",
        "\n",
        "    md6.fit(X_train_smote, y_train_smote)\n",
        "    md6_pred.append(md6.predict_proba(X_test))\n",
        "\n",
        "    md7.fit(X_train_smote, y_train_smote)\n",
        "    md7_pred.append(md7.predict_proba(X_test))\n",
        "\n",
        "    # Append the true test labels for evaluation\n",
        "    y_test_list.append(y_test)\n",
        "\n",
        "# Concatenate predictions from all folds\n",
        "md1_all_preds = np.concatenate([np.argmax(pred, axis=1) for pred in md1_pred], axis=0)\n",
        "md2_all_preds = np.concatenate([np.argmax(pred, axis=1) for pred in md2_pred], axis=0)\n",
        "md3_all_preds = np.concatenate([np.argmax(pred, axis=1) for pred in md3_pred], axis=0)\n",
        "md4_all_preds = np.concatenate([np.argmax(pred, axis=1) for pred in md4_pred], axis=0)\n",
        "md5_all_preds = np.concatenate([np.argmax(pred, axis=1) for pred in md5_pred], axis=0)\n",
        "md6_all_preds = np.concatenate([np.argmax(pred, axis=1) for pred in md6_pred], axis=0)\n",
        "md7_all_preds = np.concatenate([np.argmax(pred, axis=1) for pred in md7_pred], axis=0)\n",
        "\n",
        "# Concatenate all true labels from all folds\n",
        "y_test_all = np.concatenate(y_test_list, axis=0)\n",
        "\n",
        "# Calculate accuracy for each model\n",
        "md1_accuracy = accuracy_score(y_test_all, md1_all_preds)\n",
        "md2_accuracy = accuracy_score(y_test_all, md2_all_preds)\n",
        "md3_accuracy = accuracy_score(y_test_all, md3_all_preds)\n",
        "md4_accuracy = accuracy_score(y_test_all, md4_all_preds)\n",
        "md5_accuracy = accuracy_score(y_test_all, md5_all_preds)\n",
        "md6_accuracy = accuracy_score(y_test_all, md6_all_preds)\n",
        "md7_accuracy = accuracy_score(y_test_all, md7_all_preds)\n",
        "\n",
        "# Print accuracies\n",
        "print(f\"md1 Accuracy: {md1_accuracy}\")\n",
        "print(f\"md2 Accuracy: {md2_accuracy}\")\n",
        "print(f\"md3 Accuracy: {md3_accuracy}\")\n",
        "print(f\"md4 Accuracy: {md4_accuracy}\")\n",
        "print(f\"md5 Accuracy: {md5_accuracy}\")\n",
        "print(f\"md6 Accuracy: {md6_accuracy}\")\n",
        "print(f\"md7 Accuracy: {md7_accuracy}\")\n"
      ]
    },
    {
      "cell_type": "code",
      "execution_count": null,
      "metadata": {
        "id": "3jy_R0WrVkfr"
      },
      "outputs": [],
      "source": []
    },
    {
      "cell_type": "code",
      "execution_count": null,
      "metadata": {
        "id": "IrySrj20VkiF"
      },
      "outputs": [],
      "source": []
    },
    {
      "cell_type": "code",
      "execution_count": null,
      "metadata": {
        "id": "uYeNrwVdVkku"
      },
      "outputs": [],
      "source": []
    },
    {
      "cell_type": "code",
      "execution_count": null,
      "metadata": {
        "id": "IhdgZjJTVkqI"
      },
      "outputs": [],
      "source": []
    },
    {
      "cell_type": "code",
      "execution_count": null,
      "metadata": {
        "id": "3rbq1jGhVks4"
      },
      "outputs": [],
      "source": []
    },
    {
      "cell_type": "code",
      "execution_count": null,
      "metadata": {
        "id": "Pu2ftbEmVkvh"
      },
      "outputs": [],
      "source": []
    },
    {
      "cell_type": "code",
      "execution_count": null,
      "metadata": {
        "id": "CxfQWj9uVkyC"
      },
      "outputs": [],
      "source": []
    },
    {
      "cell_type": "code",
      "execution_count": null,
      "metadata": {
        "id": "CcA2Tt1kVk0i"
      },
      "outputs": [],
      "source": []
    },
    {
      "cell_type": "code",
      "execution_count": null,
      "metadata": {
        "id": "Ro0CdR_PVk3P"
      },
      "outputs": [],
      "source": []
    },
    {
      "cell_type": "code",
      "execution_count": null,
      "metadata": {
        "id": "csuNCaFPVk5k"
      },
      "outputs": [],
      "source": []
    },
    {
      "cell_type": "code",
      "execution_count": null,
      "metadata": {
        "id": "EfvXn_xfVk8F"
      },
      "outputs": [],
      "source": []
    },
    {
      "cell_type": "code",
      "execution_count": null,
      "metadata": {
        "id": "4oHZd-gvVk-x"
      },
      "outputs": [],
      "source": []
    },
    {
      "cell_type": "code",
      "execution_count": null,
      "metadata": {
        "id": "yHYKG_cuVlBY"
      },
      "outputs": [],
      "source": []
    },
    {
      "cell_type": "code",
      "execution_count": null,
      "metadata": {
        "id": "0j8CE-7XVlDw"
      },
      "outputs": [],
      "source": []
    },
    {
      "cell_type": "code",
      "execution_count": null,
      "metadata": {
        "id": "MlUZjiC7VlGZ"
      },
      "outputs": [],
      "source": []
    }
  ],
  "metadata": {
    "accelerator": "GPU",
    "colab": {
      "gpuType": "T4",
      "provenance": []
    },
    "kernelspec": {
      "display_name": "Python 3",
      "name": "python3"
    },
    "language_info": {
      "name": "python"
    }
  },
  "nbformat": 4,
  "nbformat_minor": 0
}